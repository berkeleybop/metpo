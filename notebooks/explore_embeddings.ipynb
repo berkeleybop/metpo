{
 "cells": [
  {
   "cell_type": "markdown",
   "metadata": {},
   "source": [
    "# Exploring OLS Embeddings\n",
    "\n",
    "This notebook demonstrates how to connect to the OLS embeddings database, generate an embedding for a query using the OpenAI API, and find the most similar terms in the database."
   ]
  },
  {
   "cell_type": "code",
   "execution_count": 27,
   "metadata": {},
   "outputs": [],
   "source": [
    "import openai\n",
    "import sqlite3\n",
    "import numpy as np\n",
    "import json\n",
    "import os\n",
    "from dotenv import load_dotenv"
   ]
  },
  {
   "cell_type": "code",
   "execution_count": 28,
   "metadata": {},
   "outputs": [],
   "source": [
    "# Load environment variables from .env file\n",
    "load_dotenv(dotenv_path='../.env')\n",
    "\n",
    "# Set your API key\n",
    "openai.api_key = os.getenv(\"OPENAI_API_KEY\")\n",
    "\n",
    "if not openai.api_key:\n",
    "    raise ValueError(\"OPENAI_API_KEY not found in .env file or environment variables.\")"
   ]
  },
  {
   "cell_type": "code",
   "execution_count": 29,
   "metadata": {},
   "outputs": [
    {
     "name": "stdout",
     "output_type": "stream",
     "text": [
      "Generated embedding for query: 'agricultural soil'\n"
     ]
    }
   ],
   "source": [
    "# Your search query\n",
    "query = \"agricultural soil\"\n",
    "\n",
    "# Generate embedding using the SAME model as OLS\n",
    "response = openai.embeddings.create(\n",
    "    model=\"text-embedding-3-small\",\n",
    "    input=query\n",
    ")\n",
    "\n",
    "query_embedding = response.data[0].embedding  # List of 1536 floats\n",
    "print(f\"Generated embedding for query: '{query}'\")"
   ]
  },
  {
   "cell_type": "code",
   "execution_count": 30,
   "metadata": {},
   "outputs": [],
   "source": [
    "def cosine_similarity(vec1, vec2):\n",
    "    \"\"\"Calculates the cosine similarity between two vectors.\"\"\"\n",
    "    return np.dot(vec1, vec2) / (np.linalg.norm(vec1) * np.linalg.norm(vec2))"
   ]
  },
  {
   "cell_type": "code",
   "execution_count": 31,
   "metadata": {},
   "outputs": [
    {
     "name": "stdout",
     "output_type": "stream",
     "text": [
      "Fetching embeddings from the database... (this might take a moment)\n",
      "Calculated similarity for 7365 embeddings.\n"
     ]
    }
   ],
   "source": [
    "# Path to the embeddings database\n",
    "db_path = '/media/mark/37d25dfc-7ae2-4e0e-a60a-05fd808cc0ba/stopgap/embeddings.db'\n",
    "\n",
    "# Connect to the SQLite database\n",
    "conn = sqlite3.connect(db_path)\n",
    "cursor = conn.cursor()\n",
    "\n",
    "# Fetch a subset of embeddings to search against (e.g., from a specific ontology)\n",
    "# WARNING: Searching the entire 9.5M rows without an index will be very slow.\n",
    "print(\"Fetching embeddings from the database... (this might take a moment)\")\n",
    "cursor.execute(\"\"\"SELECT ontologyId, iri, document, embeddings \n",
    "                 FROM embeddings \n",
    "                 WHERE ontologyId = 'envo'\"\"\")\n",
    "\n",
    "results = []\n",
    "for row in cursor.fetchall():\n",
    "    ontology_id, iri, document, embedding_json = row\n",
    "    embedding_data = json.loads(embedding_json)\n",
    "    \n",
    "    # Handle different embedding storage formats\n",
    "    if isinstance(embedding_data, dict):\n",
    "        # If it's a dict, extract the embedding array (common keys: 'embedding', 'values', 'data')\n",
    "        stored_embedding = embedding_data.get('embedding') or embedding_data.get('values') or embedding_data.get('data') or list(embedding_data.values())[0]\n",
    "    else:\n",
    "        stored_embedding = embedding_data\n",
    "    \n",
    "    similarity = cosine_similarity(query_embedding, stored_embedding)\n",
    "    results.append((similarity, ontology_id, iri, document))\n",
    "\n",
    "conn.close()\n",
    "print(f\"Calculated similarity for {len(results)} embeddings.\")"
   ]
  },
  {
   "cell_type": "code",
   "execution_count": 32,
   "metadata": {},
   "outputs": [
    {
     "name": "stdout",
     "output_type": "stream",
     "text": [
      "\n",
      "Top 10 most similar terms in ENVO:\n",
      "0.7442 | http://purl.obolibrary.org/obo/ENVO_00002259 | agricultural soil; Soil which is part of an ecosystem used for agricultural activities....\n",
      "0.6317 | http://purl.obolibrary.org/obo/ENVO_00005755 | field soil; Soil which is part of an agricultural field....\n",
      "0.6254 | http://purl.obolibrary.org/obo/ENVO_00005742 | arable soil; Soil which is capable of supporting the growth of crops....\n",
      "0.5824 | http://purl.obolibrary.org/obo/CHEBI_33286 | agrochemical...\n",
      "0.5757 | http://purl.obolibrary.org/obo/ENVO_00005749 | farm soil; A portion of soil which is part of a cropland or a rangeland biome....\n",
      "0.5616 | http://purl.obolibrary.org/obo/ENVO_00000519 | agricultural terrace; A terrace which is used for agricultural activities....\n",
      "0.5576 | http://purl.obolibrary.org/obo/ENVO_03000133 | agricultural potting mixture; potting soil; An agricultural environmental material which 1) is compo...\n",
      "0.5494 | http://purl.obolibrary.org/obo/ENVO_00003884 | farmyard manure...\n",
      "0.5489 | http://purl.obolibrary.org/obo/ENVO_01000371 | agricultural waste material; agricultural waste; Agricultural waste is waste produced as a result of...\n",
      "0.5443 | http://purl.obolibrary.org/obo/ENVO_00000114 | agricultural field; agricultural site; cropland; grassland; A field which is located on land and use...\n"
     ]
    }
   ],
   "source": [
    "# Sort by similarity (descending)\n",
    "results.sort(reverse=True, key=lambda x: x[0])\n",
    "\n",
    "# Print the top 10 most similar results\n",
    "print(\"\\nTop 10 most similar terms in ENVO:\")\n",
    "for sim, ont_id, iri, doc in results[:10]:\n",
    "    print(f\"{sim:.4f} | {iri} | {doc[:100]}...\")"
   ]
  },
  {
   "cell_type": "code",
   "execution_count": null,
   "metadata": {},
   "outputs": [],
   "source": []
  }
 ],
 "metadata": {
  "kernelspec": {
   "display_name": "Python 3 (ipykernel)",
   "language": "python",
   "name": "python3"
  },
  "language_info": {
   "codemirror_mode": {
    "name": "ipython",
    "version": 3
   },
   "file_extension": ".py",
   "mimetype": "text/x-python",
   "name": "python",
   "nbconvert_exporter": "python",
   "pygments_lexer": "ipython3",
   "version": "3.11.10"
  }
 },
 "nbformat": 4,
 "nbformat_minor": 4
}

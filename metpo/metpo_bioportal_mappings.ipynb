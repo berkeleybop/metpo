{
 "cells": [
  {
   "metadata": {
    "ExecuteTime": {
     "end_time": "2025-03-17T23:48:15.892846Z",
     "start_time": "2025-03-17T23:48:15.485531Z"
    }
   },
   "cell_type": "code",
   "source": [
    "import requests\n",
    "import requests_cache\n",
    "from time import sleep\n",
    "import pandas as pd\n",
    "\n",
    "import pprint"
   ],
   "id": "ecd1209088aece19",
   "outputs": [],
   "execution_count": 9
  },
  {
   "metadata": {
    "ExecuteTime": {
     "end_time": "2025-03-17T23:47:56.133633Z",
     "start_time": "2025-03-17T23:47:56.130543Z"
    }
   },
   "cell_type": "code",
   "source": [
    "# Replace with your BioPortal API Key\n",
    "API_KEY = \"e4043787-8e9c-4fc8-a0a0-54fd01b6be9d\"\n",
    "ONTOLOGY = \"METPO\"\n",
    "BASE_URL = \"https://data.bioontology.org/ontologies\"\n",
    "HEADERS = {\"Authorization\": f\"apikey {API_KEY}\"}"
   ],
   "id": "5416e81163346f95",
   "outputs": [],
   "execution_count": 2
  },
  {
   "metadata": {
    "ExecuteTime": {
     "end_time": "2025-03-17T23:47:56.722148Z",
     "start_time": "2025-03-17T23:47:56.718538Z"
    }
   },
   "cell_type": "code",
   "source": [
    "# Setup caching (cache expires in 1 day)\n",
    "requests_cache.install_cache(\"bioportal_cache\", expire_after=86400)"
   ],
   "id": "72f734c08b8a3ed2",
   "outputs": [],
   "execution_count": 3
  },
  {
   "cell_type": "code",
   "id": "initial_id",
   "metadata": {
    "collapsed": true,
    "ExecuteTime": {
     "end_time": "2025-03-17T23:47:57.308833Z",
     "start_time": "2025-03-17T23:47:57.302846Z"
    }
   },
   "source": [
    "def fetch_all_mappings(ontology):\n",
    "    \"\"\"\n",
    "    Fetches all mappings for a given ontology, handling pagination, caching, and API authentication.\n",
    "\n",
    "    :param ontology: The ontology acronym (e.g., \"METPO\").\n",
    "    :return: List of all mappings.\n",
    "    \"\"\"\n",
    "    url = f\"{BASE_URL}/{ontology}/mappings?apikey={API_KEY}\"  # Append API key as a query parameter\n",
    "    mappings_pages = {}\n",
    "\n",
    "    while url:\n",
    "        # print(f\"Requesting: {url}\")  # Show each URL before requesting\n",
    "\n",
    "        response = requests.get(url)\n",
    "\n",
    "        # if response.from_cache:\n",
    "        #     print(f\"Cache hit: {url}\")\n",
    "\n",
    "        if response.status_code == 401:\n",
    "            print(\"Authentication failed! Check your API key.\")\n",
    "            return None\n",
    "\n",
    "        elif response.status_code != 200:\n",
    "            print(f\"Error fetching mappings: {response.status_code} - {response.text}\")\n",
    "            return None\n",
    "\n",
    "        data = response.json()\n",
    "\n",
    "        mappings_pages[data['page']] = data\n",
    "\n",
    "\n",
    "        # Handle pagination\n",
    "        url = None  # Default to None\n",
    "        next_link = data.get(\"links\", {}).get(\"nextPage\")\n",
    "        if next_link:\n",
    "            url = next_link\n",
    "\n",
    "        # To avoid hitting API rate limits, add a delay if request is live\n",
    "        if not response.from_cache:\n",
    "            sleep(1)\n",
    "\n",
    "    return mappings_pages"
   ],
   "outputs": [],
   "execution_count": 4
  },
  {
   "metadata": {
    "ExecuteTime": {
     "end_time": "2025-03-17T23:47:58.097574Z",
     "start_time": "2025-03-17T23:47:57.870197Z"
    }
   },
   "cell_type": "code",
   "source": "mappings = fetch_all_mappings(ONTOLOGY)\n",
   "id": "7d18ec069108aeb8",
   "outputs": [],
   "execution_count": 5
  },
  {
   "metadata": {
    "ExecuteTime": {
     "end_time": "2025-03-18T00:01:11.330504Z",
     "start_time": "2025-03-18T00:01:11.324913Z"
    }
   },
   "cell_type": "code",
   "source": [
    "# Define URL-to-CURIE mapping\n",
    "URL_TO_CURIE = {\n",
    "    \"https://w3id.org/metpo/\": \"METPO:\"\n",
    "}\n",
    "\n",
    "def convert_to_curie(ontology_id):\n",
    "    \"\"\"\n",
    "    Converts a full ontology URL to CURIE format if a mapping exists.\n",
    "    Otherwise, returns the original ID.\n",
    "    \"\"\"\n",
    "    for url_prefix, curie_prefix in URL_TO_CURIE.items():\n",
    "        if ontology_id.startswith(url_prefix):\n",
    "            return ontology_id.replace(url_prefix, curie_prefix)\n",
    "    return ontology_id  # Return as-is if no mapping applies\n",
    "\n",
    "def extract_loom_mappings(mappings_pages):\n",
    "    \"\"\"\n",
    "    Iterates through pages of BioPortal mappings and extracts LOOM mappings as a list of dictionaries.\n",
    "    Converts specified URLs to CURIE format.\n",
    "\n",
    "    :param mappings_pages: Dictionary of pages containing mapping data.\n",
    "    :return: List of dictionaries with mapping details.\n",
    "    \"\"\"\n",
    "    loom_mappings = []\n",
    "\n",
    "    for page_num, page_data in mappings_pages.items():\n",
    "        if \"collection\" not in page_data:\n",
    "            continue  # Skip if no mappings on this page\n",
    "\n",
    "        for mapping in page_data[\"collection\"]:\n",
    "            if mapping.get(\"source\") == \"LOOM\" and \"classes\" in mapping:\n",
    "                classes = mapping[\"classes\"]\n",
    "                if len(classes) == 2:  # Ensure it's a pairwise mapping\n",
    "                    mapping_dict = {\n",
    "                        \"source_id\": convert_to_curie(classes[0].get(\"@id\")),\n",
    "                        \"target_id\": convert_to_curie(classes[1].get(\"@id\")),\n",
    "                        \"target_ontology\": classes[1][\"links\"].get(\"ontology\"),\n",
    "                    }\n",
    "                    loom_mappings.append(mapping_dict)\n",
    "\n",
    "    return loom_mappings\n",
    "\n"
   ],
   "id": "b7904f24b9a61a6c",
   "outputs": [],
   "execution_count": 30
  },
  {
   "metadata": {
    "ExecuteTime": {
     "end_time": "2025-03-18T00:01:11.900405Z",
     "start_time": "2025-03-18T00:01:11.891285Z"
    }
   },
   "cell_type": "code",
   "source": "loom_mappings = extract_loom_mappings(mappings)",
   "id": "5296d275319cbc8e",
   "outputs": [],
   "execution_count": 31
  },
  {
   "metadata": {
    "ExecuteTime": {
     "end_time": "2025-03-18T00:01:12.376405Z",
     "start_time": "2025-03-18T00:01:12.367879Z"
    }
   },
   "cell_type": "code",
   "source": "loom_mappings_frame = pd.DataFrame(loom_mappings)",
   "id": "281bc7e9e8b7ceba",
   "outputs": [],
   "execution_count": 32
  },
  {
   "metadata": {
    "ExecuteTime": {
     "end_time": "2025-03-18T00:01:12.877241Z",
     "start_time": "2025-03-18T00:01:12.872737Z"
    }
   },
   "cell_type": "code",
   "source": "loom_mappings_frame.shape",
   "id": "c2a3304e1d6a4de1",
   "outputs": [
    {
     "data": {
      "text/plain": [
       "(3479, 3)"
      ]
     },
     "execution_count": 33,
     "metadata": {},
     "output_type": "execute_result"
    }
   ],
   "execution_count": 33
  },
  {
   "metadata": {
    "ExecuteTime": {
     "end_time": "2025-03-18T00:01:13.409703Z",
     "start_time": "2025-03-18T00:01:13.403401Z"
    }
   },
   "cell_type": "code",
   "source": "loom_mappings_frame.drop_duplicates(inplace=True)",
   "id": "2383939a17d44336",
   "outputs": [],
   "execution_count": 34
  },
  {
   "metadata": {
    "ExecuteTime": {
     "end_time": "2025-03-18T00:01:14.068368Z",
     "start_time": "2025-03-18T00:01:14.064587Z"
    }
   },
   "cell_type": "code",
   "source": "loom_mappings_frame.shape",
   "id": "9e1c98e2bdfdb29c",
   "outputs": [
    {
     "data": {
      "text/plain": [
       "(3469, 3)"
      ]
     },
     "execution_count": 35,
     "metadata": {},
     "output_type": "execute_result"
    }
   ],
   "execution_count": 35
  },
  {
   "metadata": {
    "ExecuteTime": {
     "end_time": "2025-03-18T00:01:48.950700Z",
     "start_time": "2025-03-18T00:01:48.933272Z"
    }
   },
   "cell_type": "code",
   "source": "loom_mappings_frame.to_csv(\"metpo_loom_mappings.tsv\", index=False, sep=\"\\t\")",
   "id": "b6ee2a3ab3044b79",
   "outputs": [],
   "execution_count": 37
  },
  {
   "metadata": {},
   "cell_type": "code",
   "outputs": [],
   "execution_count": null,
   "source": "",
   "id": "8c887063b6d343b1"
  }
 ],
 "metadata": {
  "kernelspec": {
   "display_name": "Python 3",
   "language": "python",
   "name": "python3"
  },
  "language_info": {
   "codemirror_mode": {
    "name": "ipython",
    "version": 2
   },
   "file_extension": ".py",
   "mimetype": "text/x-python",
   "name": "python",
   "nbconvert_exporter": "python",
   "pygments_lexer": "ipython2",
   "version": "2.7.6"
  }
 },
 "nbformat": 4,
 "nbformat_minor": 5
}

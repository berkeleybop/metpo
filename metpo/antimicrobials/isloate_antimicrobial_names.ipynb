{
 "cells": [
  {
   "metadata": {
    "ExecuteTime": {
     "end_time": "2025-04-24T11:31:30.752130Z",
     "start_time": "2025-04-24T11:31:28.251259Z"
    }
   },
   "cell_type": "code",
   "source": [
    "import logging\n",
    "import re\n",
    "import sys\n",
    "\n",
    "from oaklib import get_adapter\n",
    "from oaklib.datamodels.text_annotator import TextAnnotation\n",
    "from oaklib.interfaces.text_annotator_interface import TextAnnotatorInterface\n",
    "from oaklib.utilities.lexical.lexical_indexer import load_lexical_index\n",
    "from rdflib import Dataset, Graph, Namespace, URIRef, BNode, RDF, Literal\n",
    "from rdflib.namespace import OWL, RDFS\n",
    "\n",
    "from tqdm.notebook import tqdm\n",
    "\n",
    "# from oaklib.datamodels.vocabulary import OBONamespace"
   ],
   "id": "cad97509ba3161a",
   "outputs": [],
   "execution_count": 1
  },
  {
   "metadata": {
    "ExecuteTime": {
     "end_time": "2025-04-24T11:31:30.820135Z",
     "start_time": "2025-04-24T11:31:30.816612Z"
    }
   },
   "cell_type": "code",
   "source": [
    "log = logging.getLogger(\"chebi_annotation\")\n",
    "log.setLevel(logging.INFO)\n",
    "\n",
    "if not log.handlers:\n",
    "    handler = logging.StreamHandler(sys.stdout)\n",
    "    handler.setLevel(logging.INFO)\n",
    "    formatter = logging.Formatter('%(levelname)s:%(name)s: %(message)s')\n",
    "    handler.setFormatter(formatter)\n",
    "    log.addHandler(handler)"
   ],
   "id": "df9d7f973616171",
   "outputs": [],
   "execution_count": 2
  },
  {
   "metadata": {
    "ExecuteTime": {
     "end_time": "2025-04-24T11:31:32.820435Z",
     "start_time": "2025-04-24T11:31:32.817565Z"
    }
   },
   "cell_type": "code",
   "source": "LEX_INDEX_FILE = \"chebi.lex\"",
   "id": "2f518a86a1cd0b02",
   "outputs": [],
   "execution_count": 3
  },
  {
   "metadata": {
    "ExecuteTime": {
     "end_time": "2025-04-24T11:31:36.960515Z",
     "start_time": "2025-04-24T11:31:36.957865Z"
    }
   },
   "cell_type": "code",
   "source": [
    "# Load the N-Quads file\n",
    "file_path = \"DrugResponseProperty_of_ncbi_taxon.nq\""
   ],
   "id": "b28a10e9297f73ad",
   "outputs": [],
   "execution_count": 4
  },
  {
   "metadata": {
    "ExecuteTime": {
     "end_time": "2025-04-24T11:31:37.710098Z",
     "start_time": "2025-04-24T11:31:37.706687Z"
    }
   },
   "cell_type": "code",
   "source": "output_file = \"DrugResponseProperty_enriched_with_subjects.ttl\"",
   "id": "351e29cc40df02ba",
   "outputs": [],
   "execution_count": 5
  },
  {
   "metadata": {
    "ExecuteTime": {
     "end_time": "2025-04-24T11:31:38.337521Z",
     "start_time": "2025-04-24T11:31:38.334864Z"
    }
   },
   "cell_type": "code",
   "source": [
    "# Target named graph\n",
    "TARGET_GRAPH_URI = URIRef(\"http://example.com/metpo/DrugResponseProperty_of_ncbi_taxon\")"
   ],
   "id": "3d5e81e63b672631",
   "outputs": [],
   "execution_count": 6
  },
  {
   "metadata": {
    "ExecuteTime": {
     "end_time": "2025-04-24T11:31:38.828404Z",
     "start_time": "2025-04-24T11:31:38.825725Z"
    }
   },
   "cell_type": "code",
   "source": [
    "# Setup OAK adapter\n",
    "oak_adapter_string = \"sqlite:obo:chebi\""
   ],
   "id": "66b743470bad8ec5",
   "outputs": [],
   "execution_count": 7
  },
  {
   "metadata": {
    "ExecuteTime": {
     "end_time": "2025-04-24T11:31:44.006511Z",
     "start_time": "2025-04-24T11:31:44.002877Z"
    }
   },
   "cell_type": "code",
   "source": [
    "def normalize_text(text):\n",
    "    # Replace known problematic Unicode spaces with ASCII space\n",
    "    return text.replace(\"\\u2005\", \" \").strip()"
   ],
   "id": "76b443a7a5affaee",
   "outputs": [],
   "execution_count": 8
  },
  {
   "metadata": {
    "ExecuteTime": {
     "end_time": "2025-04-24T11:31:44.878539Z",
     "start_time": "2025-04-24T11:31:44.875642Z"
    }
   },
   "cell_type": "code",
   "source": [
    "def normalize_all_spaces(text):\n",
    "    # Replace ALL Unicode space-like chars with a single ASCII space\n",
    "    return re.sub(r\"[\\u2000-\\u200B\\u202F\\u205F\\u3000]\", \" \", text).strip()"
   ],
   "id": "4ae522f1df10a375",
   "outputs": [],
   "execution_count": 9
  },
  {
   "metadata": {
    "ExecuteTime": {
     "end_time": "2025-04-24T11:31:45.758329Z",
     "start_time": "2025-04-24T11:31:45.751333Z"
    }
   },
   "cell_type": "code",
   "source": [
    "def filter_and_label_longest_annotations(annotations, oak_adapter):\n",
    "    \"\"\"\n",
    "    Filters annotations to keep only those with the longest span (≥3 characters),\n",
    "    and looks up the canonical label for each matched object_id.\n",
    "    \"\"\"\n",
    "    # Step 1: Filter out annotations with span length < 3\n",
    "    annotations = [\n",
    "        ann for ann in annotations\n",
    "        if ann.subject_end - ann.subject_start + 1 >= 3\n",
    "    ]\n",
    "\n",
    "    if not annotations:\n",
    "        return []\n",
    "\n",
    "    # Step 2: Find max span length\n",
    "    max_span = max(ann.subject_end - ann.subject_start + 1 for ann in annotations)\n",
    "\n",
    "    # Step 3: Filter for only longest-span annotations\n",
    "    longest_annotations = [\n",
    "        ann for ann in annotations\n",
    "        if (ann.subject_end - ann.subject_start + 1) == max_span\n",
    "    ]\n",
    "\n",
    "    # Step 4: Annotate with canonical labels\n",
    "    for ann in longest_annotations:\n",
    "        ann.canonical_label = oak_adapter.label(ann.object_id)  # Add a new attribute\n",
    "\n",
    "    return longest_annotations\n"
   ],
   "id": "925a71e335be76e8",
   "outputs": [],
   "execution_count": 10
  },
  {
   "metadata": {
    "ExecuteTime": {
     "end_time": "2025-04-24T11:31:50.399026Z",
     "start_time": "2025-04-24T11:31:50.395103Z"
    }
   },
   "cell_type": "code",
   "source": [
    "# Helper: Parse free-text entries like \"penicillin (resistant)\"\n",
    "def parse_drug_response(value):\n",
    "    items = re.split(r\",\\s*(?![^()]*\\))\", value.strip(\", \"))\n",
    "    parsed = []\n",
    "    for item in items:\n",
    "        match = re.match(r\"^(.*?)\\s*\\(([^)]+)\\)$\", item.strip())\n",
    "        if match:\n",
    "            parsed.append({\"label\": match[1].strip(), \"details\": match[2].strip()})\n",
    "        else:\n",
    "            parsed.append({\"label\": item.strip()})\n",
    "    return parsed"
   ],
   "id": "8a02dc8eb61fd175",
   "outputs": [],
   "execution_count": 11
  },
  {
   "metadata": {
    "ExecuteTime": {
     "end_time": "2025-04-24T11:31:52.284546Z",
     "start_time": "2025-04-24T11:31:52.280810Z"
    }
   },
   "cell_type": "code",
   "source": [
    "def cached_annotate(label: str, annotator) -> list[TextAnnotation]:\n",
    "    if label in _annotate_cache:\n",
    "        return _annotate_cache[label]\n",
    "    matches = list(annotator.annotate_text(label))\n",
    "    _annotate_cache[label] = matches\n",
    "    return matches"
   ],
   "id": "2532da21d12a6b9a",
   "outputs": [],
   "execution_count": 12
  },
  {
   "metadata": {
    "ExecuteTime": {
     "end_time": "2025-04-24T11:31:52.874118Z",
     "start_time": "2025-04-24T11:31:52.870932Z"
    }
   },
   "cell_type": "code",
   "source": [
    "def cached_label(curie: str, oak_adapter) -> str:\n",
    "    if curie in _label_cache:\n",
    "        return _label_cache[curie]\n",
    "    label = oak_adapter.label(curie)\n",
    "    _label_cache[curie] = label\n",
    "    return label"
   ],
   "id": "4f4484afa97646f3",
   "outputs": [],
   "execution_count": 13
  },
  {
   "metadata": {
    "ExecuteTime": {
     "end_time": "2025-04-24T11:31:56.311367Z",
     "start_time": "2025-04-24T11:31:56.307217Z"
    }
   },
   "cell_type": "code",
   "source": "_annotate_cache = {}",
   "id": "b98817f2aafa41e",
   "outputs": [],
   "execution_count": 14
  },
  {
   "metadata": {
    "ExecuteTime": {
     "end_time": "2025-04-24T11:31:56.833420Z",
     "start_time": "2025-04-24T11:31:56.830105Z"
    }
   },
   "cell_type": "code",
   "source": "_label_cache = {}",
   "id": "b6c5cb11eb1a6f40",
   "outputs": [],
   "execution_count": 15
  },
  {
   "metadata": {
    "ExecuteTime": {
     "end_time": "2025-04-24T11:31:57.419931Z",
     "start_time": "2025-04-24T11:31:57.393040Z"
    }
   },
   "cell_type": "code",
   "source": "oak_adapter = get_adapter(oak_adapter_string)",
   "id": "3b70062fa24dba89",
   "outputs": [],
   "execution_count": 16
  },
  {
   "metadata": {
    "ExecuteTime": {
     "end_time": "2025-04-24T11:37:56.372788Z",
     "start_time": "2025-04-24T11:31:58.141016Z"
    }
   },
   "cell_type": "code",
   "source": [
    "lexical_index = load_lexical_index(LEX_INDEX_FILE)\n",
    "# 6 minutes"
   ],
   "id": "b4599c15daba9c25",
   "outputs": [],
   "execution_count": 17
  },
  {
   "metadata": {
    "ExecuteTime": {
     "end_time": "2025-04-24T11:38:02.106656Z",
     "start_time": "2025-04-24T11:38:02.103897Z"
    }
   },
   "cell_type": "code",
   "source": [
    "# Set up the TextAnnotatorInterface with the lexical index.\n",
    "annotator = TextAnnotatorInterface()\n",
    "annotator.lexical_index = lexical_index"
   ],
   "id": "e93379bbe3c3353f",
   "outputs": [],
   "execution_count": 18
  },
  {
   "metadata": {
    "ExecuteTime": {
     "end_time": "2025-04-24T11:38:07.997090Z",
     "start_time": "2025-04-24T11:38:07.871361Z"
    }
   },
   "cell_type": "code",
   "source": [
    "dataset = Dataset()\n",
    "dataset.parse(file_path, format=\"nquads\")"
   ],
   "id": "71cf7c1573f255ee",
   "outputs": [
    {
     "data": {
      "text/plain": [
       "<Graph identifier=urn:x-rdflib:default (<class 'rdflib.graph.Graph'>)>"
      ]
     },
     "execution_count": 19,
     "metadata": {},
     "output_type": "execute_result"
    }
   ],
   "execution_count": 19
  },
  {
   "metadata": {
    "ExecuteTime": {
     "end_time": "2025-04-24T11:38:13.868921Z",
     "start_time": "2025-04-24T11:38:13.864824Z"
    }
   },
   "cell_type": "code",
   "source": [
    "# Define constants for METPO IRIs\n",
    "CLASS_IRI = URIRef(\"https://w3id.org/metpo/1000527\")              # antimicrobial susceptibility assay result\n",
    "DETAILS_CLASS = URIRef(\"https://w3id.org/metpo/1000528\")          # structured susceptibility detail\n",
    "COMPOUND_CLASS = URIRef(\"https://w3id.org/metpo/1000526\")         # chemical entity\n",
    "TAXON_CLASS = URIRef(\"https://w3id.org/metpo/1000525\")            # microbe\n",
    "\n",
    "HAS_DETAILS = URIRef(\"https://w3id.org/metpo/2000002\")            # has structured assay detail\n",
    "ABOUT_COMPOUND = URIRef(\"https://w3id.org/metpo/2000003\")         # has antimicrobial substance\n",
    "HAS_SUBJECT = URIRef(\"https://w3id.org/metpo/2000004\")            # has organism identified\n",
    "\n",
    "SOURCE_STRING = URIRef(\"https://w3id.org/metpo/2000007\")          # has normalized compound string\n",
    "ASSAY_DETAILS = URIRef(\"https://w3id.org/metpo/2000006\")          # has assay measurement value\n",
    "RAW_TEXT = URIRef(\"https://w3id.org/metpo/2000005\")               # has original response string\n",
    "\n",
    "SUSCEPTIBLE_TO = URIRef(\"https://w3id.org/metpo/2000000\")         # has susceptibility profile\n",
    "RESISTANT_TO = URIRef(\"https://w3id.org/metpo/2000001\")           # has resistance profile\n",
    "\n",
    "HAS_VALUE_INPUT = URIRef(\"http://example.com/metpo/has_value\")\n",
    "RAW_TEXT = URIRef(\"https://w3id.org/metpo/2000005\")  # has original response string"
   ],
   "id": "20dc73b615506c95",
   "outputs": [],
   "execution_count": 20
  },
  {
   "metadata": {
    "ExecuteTime": {
     "end_time": "2025-04-24T11:38:19.689010Z",
     "start_time": "2025-04-24T11:38:19.686173Z"
    }
   },
   "cell_type": "code",
   "source": [
    "# Output RDF graph (you could also make this a named graph if needed)\n",
    "enriched_graph = Graph()\n",
    "\n",
    "# Access the named graph\n",
    "named_graph = dataset.graph(TARGET_GRAPH_URI)"
   ],
   "id": "4462910a1e34406d",
   "outputs": [],
   "execution_count": 21
  },
  {
   "cell_type": "code",
   "id": "initial_id",
   "metadata": {
    "collapsed": true,
    "ExecuteTime": {
     "end_time": "2025-04-24T11:47:41.649910Z",
     "start_time": "2025-04-24T11:46:04.423204Z"
    }
   },
   "source": [
    "# Main processing loop\n",
    "triples_iter = list(named_graph.triples((None, None, None)))\n",
    "for ncbi_taxon, predicate, response_node in tqdm(triples_iter, desc=\"Processing DrugResponseProperty triples\"):\n",
    "    if not isinstance(response_node, BNode):\n",
    "        continue\n",
    "\n",
    "    raw_value = named_graph.value(subject=response_node, predicate=HAS_VALUE_INPUT)\n",
    "    subject_uri = named_graph.value(subject=response_node, predicate=HAS_SUBJECT)\n",
    "\n",
    "    if not isinstance(raw_value, Literal):\n",
    "        continue\n",
    "\n",
    "    enriched_graph.add((response_node, RDF.type, CLASS_IRI))\n",
    "    enriched_graph.add((ncbi_taxon, predicate, response_node))\n",
    "    enriched_graph.add((ncbi_taxon, RDF.type, TAXON_CLASS))\n",
    "    enriched_graph.add((response_node, RAW_TEXT, raw_value))  # write with canonical IRI\n",
    "\n",
    "    if subject_uri:\n",
    "        enriched_graph.add((response_node, HAS_SUBJECT, subject_uri))\n",
    "\n",
    "    for entry in parse_drug_response(str(raw_value)):\n",
    "        detail_node = BNode()\n",
    "        enriched_graph.add((detail_node, RDF.type, DETAILS_CLASS))\n",
    "        enriched_graph.add((response_node, HAS_DETAILS, detail_node))\n",
    "\n",
    "        compound_bnode = BNode()\n",
    "        enriched_graph.add((compound_bnode, RDF.type, COMPOUND_CLASS))\n",
    "        enriched_graph.add((detail_node, ABOUT_COMPOUND, compound_bnode))\n",
    "\n",
    "        normalized_label = normalize_text(entry[\"label\"])\n",
    "        matches = cached_annotate(normalized_label, annotator)\n",
    "        best_matches = filter_and_label_longest_annotations(matches, oak_adapter)\n",
    "\n",
    "        if best_matches:\n",
    "            match = best_matches[0]\n",
    "            chebi_curie = match.object_id\n",
    "            chebi_label = cached_label(chebi_curie, oak_adapter)\n",
    "            chebi_iri = URIRef(f\"http://purl.obolibrary.org/obo/{chebi_curie.replace(':', '_')}\")\n",
    "            enriched_graph.add((compound_bnode, RDFS.label, Literal(chebi_label)))\n",
    "            enriched_graph.add((compound_bnode, OWL.sameAs, chebi_iri))\n",
    "        else:\n",
    "            enriched_graph.add((compound_bnode, RDFS.label, Literal(normalized_label)))\n",
    "\n",
    "        enriched_graph.add((compound_bnode, SOURCE_STRING, Literal(normalized_label)))\n",
    "\n",
    "        if \"details\" in entry:\n",
    "            normalized_detail = normalize_text(entry[\"details\"])\n",
    "            enriched_graph.add((detail_node, ASSAY_DETAILS, Literal(normalized_detail)))\n"
   ],
   "outputs": [
    {
     "data": {
      "text/plain": [
       "Processing DrugResponseProperty triples:   0%|          | 0/2916 [00:00<?, ?it/s]"
      ],
      "application/vnd.jupyter.widget-view+json": {
       "version_major": 2,
       "version_minor": 0,
       "model_id": "5301c84f246d4e04b2aaeb284618b1ef"
      }
     },
     "metadata": {},
     "output_type": "display_data"
    }
   ],
   "execution_count": 22
  },
  {
   "metadata": {},
   "cell_type": "code",
   "source": [
    "enriched_graph.serialize(destination=output_file, format=\"turtle\")\n",
    "print(f\"Serialized RDF with enrichment to: {output_file}\")"
   ],
   "id": "170fcc287093f59f",
   "outputs": [],
   "execution_count": null
  },
  {
   "metadata": {},
   "cell_type": "code",
   "source": "# annotations = list(annotator.annotate_text(\"vancomycin\"))",
   "id": "14c62cd99141e2c9",
   "outputs": [],
   "execution_count": null
  },
  {
   "metadata": {},
   "cell_type": "code",
   "source": "# import pprint",
   "id": "a56bd168f5690f8",
   "outputs": [],
   "execution_count": null
  },
  {
   "metadata": {},
   "cell_type": "code",
   "source": "# pprint.pprint(annotations)",
   "id": "43766d6077dbef54",
   "outputs": [],
   "execution_count": null
  },
  {
   "metadata": {},
   "cell_type": "code",
   "source": "# oak_adapter.label(\"CHEBI:16414\")",
   "id": "54f2bb1538565ff7",
   "outputs": [],
   "execution_count": null
  },
  {
   "metadata": {},
   "cell_type": "code",
   "source": "",
   "id": "7a952f1df7886f8d",
   "outputs": [],
   "execution_count": null
  }
 ],
 "metadata": {
  "kernelspec": {
   "display_name": "Python 3",
   "language": "python",
   "name": "python3"
  },
  "language_info": {
   "codemirror_mode": {
    "name": "ipython",
    "version": 2
   },
   "file_extension": ".py",
   "mimetype": "text/x-python",
   "name": "python",
   "nbconvert_exporter": "python",
   "pygments_lexer": "ipython2",
   "version": "2.7.6"
  }
 },
 "nbformat": 4,
 "nbformat_minor": 5
}

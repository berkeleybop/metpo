{
 "cells": [
  {
   "cell_type": "markdown",
   "metadata": {},
   "source": [
    "# Query OLS Embeddings with ChromaDB\n",
    "\n",
    "This notebook demonstrates fast similarity search using ChromaDB.\n",
    "\n",
    "**Prerequisites:** Run `migrate_to_chromadb.py` first to create the ChromaDB collection."
   ]
  },
  {
   "cell_type": "code",
   "execution_count": 1,
   "metadata": {},
   "outputs": [],
   "source": [
    "import openai\n",
    "import chromadb\n",
    "import os\n",
    "from dotenv import load_dotenv\n",
    "from chromadb.config import Settings"
   ]
  },
  {
   "cell_type": "code",
   "execution_count": 2,
   "metadata": {},
   "outputs": [],
   "source": [
    "# Load environment variables\n",
    "load_dotenv(dotenv_path='../.env')\n",
    "openai.api_key = os.getenv(\"OPENAI_API_KEY\")\n",
    "\n",
    "if not openai.api_key:\n",
    "    raise ValueError(\"OPENAI_API_KEY not found in .env file or environment variables.\")"
   ]
  },
  {
   "cell_type": "code",
   "execution_count": 3,
   "metadata": {},
   "outputs": [
    {
     "name": "stdout",
     "output_type": "stream",
     "text": [
      "Collection loaded: 10,000 embeddings\n"
     ]
    }
   ],
   "source": [
    "# Connect to ChromaDB\n",
    "client = chromadb.PersistentClient(\n",
    "    path=\"./chroma_db\",\n",
    "    settings=Settings(anonymized_telemetry=False)\n",
    ")\n",
    "\n",
    "collection = client.get_collection(name=\"ols_embeddings\")\n",
    "print(f\"Collection loaded: {collection.count():,} embeddings\")"
   ]
  },
  {
   "cell_type": "code",
   "execution_count": 4,
   "metadata": {},
   "outputs": [
    {
     "name": "stdout",
     "output_type": "stream",
     "text": [
      "Generated embedding for: 'agricultural soil'\n"
     ]
    }
   ],
   "source": [
    "# Your search query\n",
    "query = \"agricultural soil\"\n",
    "\n",
    "# Generate embedding for the query\n",
    "response = openai.embeddings.create(\n",
    "    model=\"text-embedding-3-small\",\n",
    "    input=query\n",
    ")\n",
    "\n",
    "query_embedding = response.data[0].embedding\n",
    "print(f\"Generated embedding for: '{query}'\")"
   ]
  },
  {
   "cell_type": "code",
   "execution_count": 5,
   "metadata": {},
   "outputs": [
    {
     "name": "stdout",
     "output_type": "stream",
     "text": [
      "\n",
      "Top 10 most similar terms (across ALL ontologies):\n",
      "\n",
      "0.6340 | agro | agro:http://purl.obolibrary.org/obo/ENVO_00005755\n",
      "  field soil...\n",
      "\n",
      "0.7575 | agro | agro:http://purl.obolibrary.org/obo/ENVO_0010003\n",
      "  agricultural environmental material...\n",
      "\n",
      "0.7877 | agro | agro:http://purl.obolibrary.org/obo/ENVO_00003914\n",
      "  chalk soil...\n",
      "\n",
      "0.7896 | agro | agro:http://purl.obolibrary.org/obo/ENVO_00000519\n",
      "  agricultural terrace...\n",
      "\n",
      "0.8486 | agro | agro:http://purl.obolibrary.org/obo/ENVO_00005761\n",
      "  meadow soil...\n",
      "\n",
      "0.8486 | agro | agro:http://purl.obolibrary.org/obo/ENVO_00005749\n",
      "  farm soil; A portion of soil which is part of a cropland or a rangeland biome....\n",
      "\n",
      "0.8925 | bco | bco:http://purl.obolibrary.org/obo/PCO_0000030\n",
      "  agricultural household; A household in which the majority of the income of its members is derived from agricultural activities....\n",
      "\n",
      "0.9123 | agro | agro:http://purl.obolibrary.org/obo/ENVO_00005786\n",
      "  upland soil...\n",
      "\n",
      "0.9361 | agro | agro:http://purl.obolibrary.org/obo/AGRO_00002071\n",
      "  agricultural process; A planned process which occurs in an agricultural field....\n",
      "\n",
      "0.9485 | agro | agro:http://purl.obolibrary.org/obo/AGRO_00002062\n",
      "  agronomic fertilizer; An enviromental material that has a role of fertilization...\n",
      "\n"
     ]
    }
   ],
   "source": [
    "# Query ChromaDB for similar embeddings\n",
    "results = collection.query(\n",
    "    query_embeddings=[query_embedding],\n",
    "    n_results=10,  # Top 10 results\n",
    "    include=[\"documents\", \"metadatas\", \"distances\"]\n",
    ")\n",
    "\n",
    "print(f\"\\nTop 10 most similar terms (across ALL ontologies):\\n\")\n",
    "for i in range(len(results['ids'][0])):\n",
    "    iri = results['ids'][0][i]\n",
    "    distance = results['distances'][0][i]\n",
    "    ontology = results['metadatas'][0][i]['ontologyId']\n",
    "    document = results['documents'][0][i]\n",
    "    \n",
    "    # Convert distance to similarity (ChromaDB uses L2 distance by default)\n",
    "    # For cosine similarity, use collection with metric=\"cosine\"\n",
    "    print(f\"{distance:.4f} | {ontology} | {iri}\")\n",
    "    print(f\"  {document[:150]}...\\n\")"
   ]
  },
  {
   "cell_type": "code",
   "execution_count": 6,
   "metadata": {},
   "outputs": [
    {
     "name": "stdout",
     "output_type": "stream",
     "text": [
      "\n",
      "Top 10 most similar ENVO terms:\n",
      "\n"
     ]
    }
   ],
   "source": [
    "# Filter by specific ontology (e.g., only ENVO terms)\n",
    "results_envo = collection.query(\n",
    "    query_embeddings=[query_embedding],\n",
    "    n_results=10,\n",
    "    where={\"ontologyId\": \"envo\"},  # Filter condition\n",
    "    include=[\"documents\", \"metadatas\", \"distances\"]\n",
    ")\n",
    "\n",
    "print(f\"\\nTop 10 most similar ENVO terms:\\n\")\n",
    "for i in range(len(results_envo['ids'][0])):\n",
    "    iri = results_envo['ids'][0][i]\n",
    "    distance = results_envo['distances'][0][i]\n",
    "    document = results_envo['documents'][0][i]\n",
    "    \n",
    "    print(f\"{distance:.4f} | {iri}\")\n",
    "    print(f\"  {document[:150]}...\\n\")"
   ]
  },
  {
   "cell_type": "code",
   "execution_count": 7,
   "metadata": {},
   "outputs": [
    {
     "name": "stdout",
     "output_type": "stream",
     "text": [
      "\n",
      "Top 20 results from ENVO, GO, and MONDO:\n",
      "\n"
     ]
    }
   ],
   "source": [
    "# Filter by multiple ontologies\n",
    "results_multi = collection.query(\n",
    "    query_embeddings=[query_embedding],\n",
    "    n_results=20,\n",
    "    where={\"ontologyId\": {\"$in\": [\"envo\", \"go\", \"mondo\"]}},  # Multiple ontologies\n",
    "    include=[\"documents\", \"metadatas\", \"distances\"]\n",
    ")\n",
    "\n",
    "print(f\"\\nTop 20 results from ENVO, GO, and MONDO:\\n\")\n",
    "for i in range(len(results_multi['ids'][0])):\n",
    "    iri = results_multi['ids'][0][i]\n",
    "    distance = results_multi['distances'][0][i]\n",
    "    ontology = results_multi['metadatas'][0][i]['ontologyId']\n",
    "    document = results_multi['documents'][0][i]\n",
    "    \n",
    "    print(f\"{distance:.4f} | {ontology} | {iri}\")\n",
    "    print(f\"  {document[:100]}...\\n\")"
   ]
  },
  {
   "cell_type": "code",
   "execution_count": null,
   "metadata": {},
   "outputs": [],
   "source": []
  },
  {
   "cell_type": "code",
   "execution_count": null,
   "metadata": {},
   "outputs": [],
   "source": []
  },
  {
   "cell_type": "code",
   "execution_count": null,
   "metadata": {},
   "outputs": [],
   "source": []
  }
 ],
 "metadata": {
  "kernelspec": {
   "display_name": "Python 3 (ipykernel)",
   "language": "python",
   "name": "python3"
  },
  "language_info": {
   "codemirror_mode": {
    "name": "ipython",
    "version": 3
   },
   "file_extension": ".py",
   "mimetype": "text/x-python",
   "name": "python",
   "nbconvert_exporter": "python",
   "pygments_lexer": "ipython3",
   "version": "3.11.10"
  }
 },
 "nbformat": 4,
 "nbformat_minor": 4
}

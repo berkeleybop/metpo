{
 "cells": [
  {
   "cell_type": "code",
   "id": "initial_id",
   "metadata": {
    "collapsed": true,
    "ExecuteTime": {
     "end_time": "2025-05-01T21:00:34.569294Z",
     "start_time": "2025-05-01T21:00:34.566257Z"
    }
   },
   "source": [
    "import pandas as pd\n",
    "import re\n",
    "from pydantic import BaseModel, Field\n",
    "from typing import Optional, List\n",
    "from oaklib import get_adapter\n",
    "from quantulum3 import parser as quant_parser\n",
    "\n",
    "from tqdm.notebook import tqdm"
   ],
   "outputs": [],
   "execution_count": 25
  },
  {
   "metadata": {
    "ExecuteTime": {
     "end_time": "2025-05-01T20:10:57.213630Z",
     "start_time": "2025-05-01T20:10:57.208470Z"
    }
   },
   "cell_type": "code",
   "source": [
    "# Load input\n",
    "input_csv = \"parsed_salinity.csv\"\n"
   ],
   "id": "6cde95418adc450a",
   "outputs": [],
   "execution_count": 2
  },
  {
   "metadata": {
    "ExecuteTime": {
     "end_time": "2025-05-01T20:10:58.257285Z",
     "start_time": "2025-05-01T20:10:58.235048Z"
    }
   },
   "cell_type": "code",
   "source": "df = pd.read_csv(input_csv)",
   "id": "84cca26dfeea910e",
   "outputs": [],
   "execution_count": 3
  },
  {
   "metadata": {
    "ExecuteTime": {
     "end_time": "2025-05-01T20:11:20.322413Z",
     "start_time": "2025-05-01T20:11:20.313793Z"
    }
   },
   "cell_type": "code",
   "source": [
    "# Ontology adapters for individual ontologies\n",
    "ontology_sources = [\"envo\", \"chebi\", \"pato\"]\n"
   ],
   "id": "c310217e8beda4c",
   "outputs": [],
   "execution_count": 4
  },
  {
   "metadata": {
    "ExecuteTime": {
     "end_time": "2025-05-01T20:12:27.030611Z",
     "start_time": "2025-05-01T20:11:21.190323Z"
    }
   },
   "cell_type": "code",
   "source": "oak_adapters = [get_adapter(f\"sqlite:obo:{src}\") for src in ontology_sources]",
   "id": "267598d2b4059ac4",
   "outputs": [
    {
     "data": {
      "text/plain": [
       "Downloading envo.db.gz: 0.00B [00:00, ?B/s]"
      ],
      "application/vnd.jupyter.widget-view+json": {
       "version_major": 2,
       "version_minor": 0,
       "model_id": "463e1e89d5204646bc3daea3e98d97b5"
      }
     },
     "metadata": {},
     "output_type": "display_data"
    },
    {
     "data": {
      "text/plain": [
       "Downloading chebi.db.gz: 0.00B [00:00, ?B/s]"
      ],
      "application/vnd.jupyter.widget-view+json": {
       "version_major": 2,
       "version_minor": 0,
       "model_id": "7d2a49d7e32d44bb9c2f9338acb4aebe"
      }
     },
     "metadata": {},
     "output_type": "display_data"
    },
    {
     "data": {
      "text/plain": [
       "Downloading pato.db.gz: 0.00B [00:00, ?B/s]"
      ],
      "application/vnd.jupyter.widget-view+json": {
       "version_major": 2,
       "version_minor": 0,
       "model_id": "710d761bfbe54f7ba117f2517a7d0f77"
      }
     },
     "metadata": {},
     "output_type": "display_data"
    }
   ],
   "execution_count": 5
  },
  {
   "metadata": {
    "ExecuteTime": {
     "end_time": "2025-05-01T21:00:39.203890Z",
     "start_time": "2025-05-01T21:00:39.198967Z"
    }
   },
   "cell_type": "code",
   "source": [
    "# Custom rule-based regex patterns\n",
    "range_patterns = [\n",
    "    (re.compile(r\"up to ([\\d.]+)\\s*%\"), lambda m: (0, float(m.group(1)))),\n",
    "    (re.compile(r\"below ([\\d.]+)\\s*%\"), lambda m: (0, float(m.group(1)))),\n",
    "    (re.compile(r\"more than ([\\d.]+)\\s*%\"), lambda m: (float(m.group(1)), None)),\n",
    "]"
   ],
   "id": "774e226cc5b8ac9c",
   "outputs": [],
   "execution_count": 26
  },
  {
   "metadata": {
    "ExecuteTime": {
     "end_time": "2025-05-01T21:00:39.714337Z",
     "start_time": "2025-05-01T21:00:39.706039Z"
    }
   },
   "cell_type": "code",
   "source": [
    "# Pydantic model for structured output\n",
    "class SaltConditionMetadata(BaseModel):\n",
    "    consensus_unit: Optional[str] = None\n",
    "    raw_text: str\n",
    "    concentration_value: Optional[float] = None\n",
    "    concentration_unit: Optional[str] = None\n",
    "    concentration_qualifier: Optional[str] = None\n",
    "    concentration_range_min: Optional[float] = None\n",
    "    concentration_range_max: Optional[float] = None\n",
    "    compound_label: Optional[str] = None\n",
    "    compound_curie: Optional[str] = None\n",
    "    medium_label: Optional[str] = None\n",
    "    medium_curie: Optional[str] = None\n",
    "    phenotype_label: Optional[str] = None\n",
    "    phenotype_curie: Optional[str] = None\n",
    "    growth_modifier: Optional[str] = None\n",
    "    unparsed_text: Optional[str] = None"
   ],
   "id": "118b08a66c428d6",
   "outputs": [],
   "execution_count": 27
  },
  {
   "metadata": {
    "ExecuteTime": {
     "end_time": "2025-05-01T20:22:32.523870Z",
     "start_time": "2025-05-01T20:22:32.504452Z"
    }
   },
   "cell_type": "code",
   "source": [
    "# def extract_metadata(text: str) -> SaltConditionMetadata:\n",
    "#     result = SaltConditionMetadata(raw_text=text)\n",
    "#     consumed_spans = []\n",
    "#\n",
    "#     # Quantities (e.g., 3%)\n",
    "#     for q in quant_parser.parse(text):\n",
    "#         result.concentration_value = q.value\n",
    "#         if q.unit:\n",
    "#             result.concentration_unit = q.unit.name\n",
    "#         if q.surface.lower().endswith(\"(w/v)\") or \"wt/vol\" in q.surface.lower():\n",
    "#             result.concentration_qualifier = \"w/v\"\n",
    "#         consumed_spans.append(q.span)\n",
    "#\n",
    "#     # Range phrases\n",
    "#     for pattern, extractor in range_patterns:\n",
    "#         match = pattern.search(text)\n",
    "#         if match:\n",
    "#             result.concentration_range_min, result.concentration_range_max = extractor(match)\n",
    "#             consumed_spans.append(match.span())\n",
    "#             break\n",
    "#\n",
    "#     # OAK annotations (chemical, medium, phenotype)\n",
    "#     for oak in oak_adapters:\n",
    "#         annotations = list(oak.annotate_text(text))\n",
    "#         for ann in annotations:\n",
    "#             label = getattr(ann, \"subject_label\", None)\n",
    "#             curie = getattr(ann, \"subject\", None)\n",
    "#             matched = getattr(ann, \"match_string\", None)\n",
    "#             span = getattr(ann, \"start\", None), getattr(ann, \"end\", None)\n",
    "#             consumed_spans.append(span)\n",
    "#\n",
    "#             if \"NaCl\" in matched or \"salt\" in matched:\n",
    "#                 result.compound_label = label\n",
    "#                 result.compound_curie = curie\n",
    "#             elif \"marine\" in matched or \"medium\" in matched:\n",
    "#                 result.medium_label = label\n",
    "#                 result.medium_curie = curie\n",
    "#             elif \"halo\" in matched or \"tolerant\" in matched:\n",
    "#                 result.phenotype_label = label\n",
    "#                 result.phenotype_curie = curie\n",
    "#\n",
    "#     # Growth modifier (weak/strong/etc)\n",
    "#     if \"weak\" in text:\n",
    "#         result.growth_modifier = \"weak\"\n",
    "#         consumed_spans.append((text.find(\"weak\"), text.find(\"weak\") + 4))\n",
    "#\n",
    "#     # Unparsed text\n",
    "#     tokens = [(m.start(), m.end()) for m in re.finditer(r\"\\S+\", text)]\n",
    "#     unexplained = []\n",
    "#     for start, end in tokens:\n",
    "#         if not any((cs is not None and ce is not None and (cs <= start < ce or cs < end <= ce)) for cs, ce in consumed_spans):\n",
    "#             unexplained.append(text[start:end])\n",
    "#     if unexplained:\n",
    "#         result.unparsed_text = \" \".join(unexplained)\n",
    "#\n",
    "#     return result\n"
   ],
   "id": "4e72a51c74cd64e6",
   "outputs": [],
   "execution_count": 12
  },
  {
   "metadata": {
    "ExecuteTime": {
     "end_time": "2025-05-01T21:00:46.896600Z",
     "start_time": "2025-05-01T21:00:46.885835Z"
    }
   },
   "cell_type": "code",
   "source": [
    "def extract_metadata(text: str) -> SaltConditionMetadata:\n",
    "    result = SaltConditionMetadata(raw_text=text)\n",
    "    consumed_spans = []\n",
    "    parsed_units = []\n",
    "\n",
    "    # Quantities (e.g., 3%)\n",
    "    parsed_quantities = quant_parser.parse(text)\n",
    "    for q in parsed_quantities:\n",
    "        # Don't assign value if uncertainty implies a range\n",
    "        if not q.uncertainty:\n",
    "            result.concentration_value = q.value\n",
    "        if q.unit:\n",
    "            parsed_units.append(q.unit.name)\n",
    "        result.concentration_unit = q.unit.name\n",
    "        if q.surface.lower().endswith(\"(w/v)\") or \"wt/vol\" in q.surface.lower():\n",
    "            result.concentration_qualifier = \"w/v\"\n",
    "            # Handle range via uncertainty if available\n",
    "    if q.uncertainty:\n",
    "        result.concentration_range_min = q.value - q.uncertainty\n",
    "        result.concentration_range_max = q.value + q.uncertainty\n",
    "        result.concentration_value = None\n",
    "    else:\n",
    "        result.concentration_value = q.value\n",
    "\n",
    "    # Fix known misinterpretations from Quantulum3\n",
    "    if q.unit:\n",
    "        unit_str = q.unit.name.lower()\n",
    "        if unit_str in [\"metre\", \"millimetre\", \"mole\", \"metre mole\"]:\n",
    "            result.concentration_unit = \"molar\"\n",
    "        elif unit_str == \"millimolar\":\n",
    "            result.concentration_unit = \"mM\"\n",
    "        elif unit_str == \"mole per litre\" or unit_str == \"mol/i\":\n",
    "            result.concentration_unit = \"mol/L\"\n",
    "        elif unit_str == \"nanoampere centilitre\":\n",
    "            result.concentration_unit = \"molar\"\n",
    "        else:\n",
    "            result.concentration_unit = q.unit.name\n",
    "\n",
    "    if q.surface.lower().endswith(\"(w/v)\") or \"wt/vol\" in q.surface.lower():\n",
    "        result.concentration_qualifier = \"w/v\"\n",
    "    consumed_spans.append(q.span)\n",
    "\n",
    "    # Range phrases\n",
    "    for pattern, extractor in range_patterns:\n",
    "        match = pattern.search(text)\n",
    "        if match:\n",
    "            result.concentration_range_min, result.concentration_range_max = extractor(match)\n",
    "            consumed_spans.append(match.span())\n",
    "            break\n",
    "\n",
    "    # (weak / strong / etc)\n",
    "    if \"weak\" in text:\n",
    "        result.growth_modifier = \"weak\"\n",
    "        consumed_spans.append((text.find(\"weak\"), text.find(\"weak\") + 4))\n",
    "\n",
    "    # Unparsed text\n",
    "    tokens = [(m.start(), m.end()) for m in re.finditer(r\"\\S+\", text)]\n",
    "    unexplained = []\n",
    "    for start, end in tokens:\n",
    "        if not any((cs is not None and ce is not None and (cs <= start < ce or cs < end <= ce)) for cs, ce in\n",
    "                   consumed_spans):\n",
    "            unexplained.append(text[start:end])\n",
    "    if unexplained:\n",
    "        result.unparsed_text = \" \".join(unexplained)\n",
    "\n",
    "    # Infer consensus_unit from structured + unparsed evidence\n",
    "    if parsed_units:\n",
    "        result.consensus_unit = parsed_units[0].lower()\n",
    "    elif result.unparsed_text:\n",
    "        if any(u in result.unparsed_text.lower() for u in [\"molar\", \"mol/l\", \"m/l\", \"mmol\", \"mm\", \"g/l\", \"%\"]):\n",
    "            result.consensus_unit = \"molar\" if \"molar\" in result.unparsed_text.lower() else \"%\"\" \".join(unexplained)\n",
    "\n",
    "    return result"
   ],
   "id": "a1d3247d9a9f25c3",
   "outputs": [],
   "execution_count": 28
  },
  {
   "metadata": {
    "ExecuteTime": {
     "end_time": "2025-05-01T21:00:55.176112Z",
     "start_time": "2025-05-01T21:00:51.318111Z"
    }
   },
   "cell_type": "code",
   "source": [
    "# Run extraction with progress bar\n",
    "results = [extract_metadata(t) for t in tqdm(df[\"raw_text\"].dropna(), desc=\"Parsing salt conditions\")]\n"
   ],
   "id": "e2109b41ab194f8b",
   "outputs": [
    {
     "data": {
      "text/plain": [
       "Parsing salt conditions:   0%|          | 0/4308 [00:00<?, ?it/s]"
      ],
      "application/vnd.jupyter.widget-view+json": {
       "version_major": 2,
       "version_minor": 0,
       "model_id": "2eb2abce1bb74430bf65f1ddc5d9b632"
      }
     },
     "metadata": {},
     "output_type": "display_data"
    }
   ],
   "execution_count": 29
  },
  {
   "metadata": {
    "ExecuteTime": {
     "end_time": "2025-05-01T20:53:11.783602Z",
     "start_time": "2025-05-01T20:53:11.748671Z"
    }
   },
   "cell_type": "code",
   "source": "structured_df = pd.DataFrame([r.model_dump() for r in results])",
   "id": "2bd8df623f2d130a",
   "outputs": [],
   "execution_count": 22
  },
  {
   "metadata": {
    "ExecuteTime": {
     "end_time": "2025-05-01T21:00:59.244597Z",
     "start_time": "2025-05-01T21:00:59.216780Z"
    }
   },
   "cell_type": "code",
   "source": "structured_df",
   "id": "abb740b9bc675294",
   "outputs": [
    {
     "data": {
      "text/plain": [
       "            raw_text  concentration_value concentration_unit  \\\n",
       "0              0–2 %                 1.00      dimensionless   \n",
       "1              0–2 %                 1.00      dimensionless   \n",
       "2       0.5% and 21%                21.00         percentage   \n",
       "3      more than 7 %                 7.00      dimensionless   \n",
       "4     up to 4% (w/v)                 4.00         percentage   \n",
       "...              ...                  ...                ...   \n",
       "4303            0.01                 0.01      dimensionless   \n",
       "4304               0                 0.00      dimensionless   \n",
       "4305               0                 0.00      dimensionless   \n",
       "4306            2-3%                 2.50         percentage   \n",
       "4307            0–1%                 0.50         percentage   \n",
       "\n",
       "     concentration_qualifier  concentration_range_min  \\\n",
       "0                       None                      0.0   \n",
       "1                       None                      0.0   \n",
       "2                       None                      NaN   \n",
       "3                       None                      7.0   \n",
       "4                       None                      0.0   \n",
       "...                      ...                      ...   \n",
       "4303                    None                      NaN   \n",
       "4304                    None                      NaN   \n",
       "4305                    None                      NaN   \n",
       "4306                    None                      2.0   \n",
       "4307                    None                      0.0   \n",
       "\n",
       "      concentration_range_max compound_label compound_curie medium_label  \\\n",
       "0                         2.0           None           None         None   \n",
       "1                         2.0           None           None         None   \n",
       "2                         NaN           None           None         None   \n",
       "3                         NaN           None           None         None   \n",
       "4                         4.0           None           None         None   \n",
       "...                       ...            ...            ...          ...   \n",
       "4303                      NaN           None           None         None   \n",
       "4304                      NaN           None           None         None   \n",
       "4305                      NaN           None           None         None   \n",
       "4306                      3.0           None           None         None   \n",
       "4307                      1.0           None           None         None   \n",
       "\n",
       "     medium_curie phenotype_label phenotype_curie growth_modifier  \\\n",
       "0            None            None            None            None   \n",
       "1            None            None            None            None   \n",
       "2            None            None            None            None   \n",
       "3            None            None            None            None   \n",
       "4            None            None            None            None   \n",
       "...           ...             ...             ...             ...   \n",
       "4303         None            None            None            None   \n",
       "4304         None            None            None            None   \n",
       "4305         None            None            None            None   \n",
       "4306         None            None            None            None   \n",
       "4307         None            None            None            None   \n",
       "\n",
       "                           unparsed_text  \n",
       "0                                      %  \n",
       "1                                      %  \n",
       "2                               0.5% and  \n",
       "3                                   None  \n",
       "4     (w/v) [POSSIBLE QUALIFIER PRESENT]  \n",
       "...                                  ...  \n",
       "4303                                None  \n",
       "4304                                None  \n",
       "4305                                None  \n",
       "4306                                None  \n",
       "4307                                None  \n",
       "\n",
       "[4308 rows x 14 columns]"
      ],
      "text/html": [
       "<div>\n",
       "<style scoped>\n",
       "    .dataframe tbody tr th:only-of-type {\n",
       "        vertical-align: middle;\n",
       "    }\n",
       "\n",
       "    .dataframe tbody tr th {\n",
       "        vertical-align: top;\n",
       "    }\n",
       "\n",
       "    .dataframe thead th {\n",
       "        text-align: right;\n",
       "    }\n",
       "</style>\n",
       "<table border=\"1\" class=\"dataframe\">\n",
       "  <thead>\n",
       "    <tr style=\"text-align: right;\">\n",
       "      <th></th>\n",
       "      <th>raw_text</th>\n",
       "      <th>concentration_value</th>\n",
       "      <th>concentration_unit</th>\n",
       "      <th>concentration_qualifier</th>\n",
       "      <th>concentration_range_min</th>\n",
       "      <th>concentration_range_max</th>\n",
       "      <th>compound_label</th>\n",
       "      <th>compound_curie</th>\n",
       "      <th>medium_label</th>\n",
       "      <th>medium_curie</th>\n",
       "      <th>phenotype_label</th>\n",
       "      <th>phenotype_curie</th>\n",
       "      <th>growth_modifier</th>\n",
       "      <th>unparsed_text</th>\n",
       "    </tr>\n",
       "  </thead>\n",
       "  <tbody>\n",
       "    <tr>\n",
       "      <th>0</th>\n",
       "      <td>0–2 %</td>\n",
       "      <td>1.00</td>\n",
       "      <td>dimensionless</td>\n",
       "      <td>None</td>\n",
       "      <td>0.0</td>\n",
       "      <td>2.0</td>\n",
       "      <td>None</td>\n",
       "      <td>None</td>\n",
       "      <td>None</td>\n",
       "      <td>None</td>\n",
       "      <td>None</td>\n",
       "      <td>None</td>\n",
       "      <td>None</td>\n",
       "      <td>%</td>\n",
       "    </tr>\n",
       "    <tr>\n",
       "      <th>1</th>\n",
       "      <td>0–2 %</td>\n",
       "      <td>1.00</td>\n",
       "      <td>dimensionless</td>\n",
       "      <td>None</td>\n",
       "      <td>0.0</td>\n",
       "      <td>2.0</td>\n",
       "      <td>None</td>\n",
       "      <td>None</td>\n",
       "      <td>None</td>\n",
       "      <td>None</td>\n",
       "      <td>None</td>\n",
       "      <td>None</td>\n",
       "      <td>None</td>\n",
       "      <td>%</td>\n",
       "    </tr>\n",
       "    <tr>\n",
       "      <th>2</th>\n",
       "      <td>0.5% and 21%</td>\n",
       "      <td>21.00</td>\n",
       "      <td>percentage</td>\n",
       "      <td>None</td>\n",
       "      <td>NaN</td>\n",
       "      <td>NaN</td>\n",
       "      <td>None</td>\n",
       "      <td>None</td>\n",
       "      <td>None</td>\n",
       "      <td>None</td>\n",
       "      <td>None</td>\n",
       "      <td>None</td>\n",
       "      <td>None</td>\n",
       "      <td>0.5% and</td>\n",
       "    </tr>\n",
       "    <tr>\n",
       "      <th>3</th>\n",
       "      <td>more than 7 %</td>\n",
       "      <td>7.00</td>\n",
       "      <td>dimensionless</td>\n",
       "      <td>None</td>\n",
       "      <td>7.0</td>\n",
       "      <td>NaN</td>\n",
       "      <td>None</td>\n",
       "      <td>None</td>\n",
       "      <td>None</td>\n",
       "      <td>None</td>\n",
       "      <td>None</td>\n",
       "      <td>None</td>\n",
       "      <td>None</td>\n",
       "      <td>None</td>\n",
       "    </tr>\n",
       "    <tr>\n",
       "      <th>4</th>\n",
       "      <td>up to 4% (w/v)</td>\n",
       "      <td>4.00</td>\n",
       "      <td>percentage</td>\n",
       "      <td>None</td>\n",
       "      <td>0.0</td>\n",
       "      <td>4.0</td>\n",
       "      <td>None</td>\n",
       "      <td>None</td>\n",
       "      <td>None</td>\n",
       "      <td>None</td>\n",
       "      <td>None</td>\n",
       "      <td>None</td>\n",
       "      <td>None</td>\n",
       "      <td>(w/v) [POSSIBLE QUALIFIER PRESENT]</td>\n",
       "    </tr>\n",
       "    <tr>\n",
       "      <th>...</th>\n",
       "      <td>...</td>\n",
       "      <td>...</td>\n",
       "      <td>...</td>\n",
       "      <td>...</td>\n",
       "      <td>...</td>\n",
       "      <td>...</td>\n",
       "      <td>...</td>\n",
       "      <td>...</td>\n",
       "      <td>...</td>\n",
       "      <td>...</td>\n",
       "      <td>...</td>\n",
       "      <td>...</td>\n",
       "      <td>...</td>\n",
       "      <td>...</td>\n",
       "    </tr>\n",
       "    <tr>\n",
       "      <th>4303</th>\n",
       "      <td>0.01</td>\n",
       "      <td>0.01</td>\n",
       "      <td>dimensionless</td>\n",
       "      <td>None</td>\n",
       "      <td>NaN</td>\n",
       "      <td>NaN</td>\n",
       "      <td>None</td>\n",
       "      <td>None</td>\n",
       "      <td>None</td>\n",
       "      <td>None</td>\n",
       "      <td>None</td>\n",
       "      <td>None</td>\n",
       "      <td>None</td>\n",
       "      <td>None</td>\n",
       "    </tr>\n",
       "    <tr>\n",
       "      <th>4304</th>\n",
       "      <td>0</td>\n",
       "      <td>0.00</td>\n",
       "      <td>dimensionless</td>\n",
       "      <td>None</td>\n",
       "      <td>NaN</td>\n",
       "      <td>NaN</td>\n",
       "      <td>None</td>\n",
       "      <td>None</td>\n",
       "      <td>None</td>\n",
       "      <td>None</td>\n",
       "      <td>None</td>\n",
       "      <td>None</td>\n",
       "      <td>None</td>\n",
       "      <td>None</td>\n",
       "    </tr>\n",
       "    <tr>\n",
       "      <th>4305</th>\n",
       "      <td>0</td>\n",
       "      <td>0.00</td>\n",
       "      <td>dimensionless</td>\n",
       "      <td>None</td>\n",
       "      <td>NaN</td>\n",
       "      <td>NaN</td>\n",
       "      <td>None</td>\n",
       "      <td>None</td>\n",
       "      <td>None</td>\n",
       "      <td>None</td>\n",
       "      <td>None</td>\n",
       "      <td>None</td>\n",
       "      <td>None</td>\n",
       "      <td>None</td>\n",
       "    </tr>\n",
       "    <tr>\n",
       "      <th>4306</th>\n",
       "      <td>2-3%</td>\n",
       "      <td>2.50</td>\n",
       "      <td>percentage</td>\n",
       "      <td>None</td>\n",
       "      <td>2.0</td>\n",
       "      <td>3.0</td>\n",
       "      <td>None</td>\n",
       "      <td>None</td>\n",
       "      <td>None</td>\n",
       "      <td>None</td>\n",
       "      <td>None</td>\n",
       "      <td>None</td>\n",
       "      <td>None</td>\n",
       "      <td>None</td>\n",
       "    </tr>\n",
       "    <tr>\n",
       "      <th>4307</th>\n",
       "      <td>0–1%</td>\n",
       "      <td>0.50</td>\n",
       "      <td>percentage</td>\n",
       "      <td>None</td>\n",
       "      <td>0.0</td>\n",
       "      <td>1.0</td>\n",
       "      <td>None</td>\n",
       "      <td>None</td>\n",
       "      <td>None</td>\n",
       "      <td>None</td>\n",
       "      <td>None</td>\n",
       "      <td>None</td>\n",
       "      <td>None</td>\n",
       "      <td>None</td>\n",
       "    </tr>\n",
       "  </tbody>\n",
       "</table>\n",
       "<p>4308 rows × 14 columns</p>\n",
       "</div>"
      ]
     },
     "execution_count": 30,
     "metadata": {},
     "output_type": "execute_result"
    }
   ],
   "execution_count": 30
  },
  {
   "metadata": {
    "ExecuteTime": {
     "end_time": "2025-05-01T21:01:12.466185Z",
     "start_time": "2025-05-01T21:01:12.428823Z"
    }
   },
   "cell_type": "code",
   "source": "structured_df.to_csv(\"structured_salt_conditions.tsv\", sep=\"\\t\", index=False)",
   "id": "7bd4f733b5791cc",
   "outputs": [],
   "execution_count": 31
  }
 ],
 "metadata": {
  "kernelspec": {
   "display_name": "Python 3",
   "language": "python",
   "name": "python3"
  },
  "language_info": {
   "codemirror_mode": {
    "name": "ipython",
    "version": 2
   },
   "file_extension": ".py",
   "mimetype": "text/x-python",
   "name": "python",
   "nbconvert_exporter": "python",
   "pygments_lexer": "ipython2",
   "version": "2.7.6"
  }
 },
 "nbformat": 4,
 "nbformat_minor": 5
}

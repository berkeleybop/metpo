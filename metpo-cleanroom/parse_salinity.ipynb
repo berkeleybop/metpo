{
 "cells": [
  {
   "metadata": {
    "ExecuteTime": {
     "end_time": "2025-04-25T21:50:08.895520Z",
     "start_time": "2025-04-25T21:50:08.892267Z"
    }
   },
   "cell_type": "code",
   "source": [
    "import pandas as pd\n",
    "import requests\n",
    "from SPARQLWrapper import SPARQLWrapper, JSON\n",
    "from quantulum3 import parser\n",
    "from rdflib import Dataset, Namespace, URIRef, BNode, Literal\n",
    "from rdflib.namespace import RDF, XSD"
   ],
   "id": "3851727a04847c9b",
   "outputs": [],
   "execution_count": 20
  },
  {
   "metadata": {
    "ExecuteTime": {
     "end_time": "2025-04-25T21:45:27.712356Z",
     "start_time": "2025-04-25T21:45:27.709916Z"
    }
   },
   "cell_type": "code",
   "source": [
    "# Correct endpoint for your 'n4l_tables' repository\n",
    "endpoint_url = \"http://localhost:7200/repositories/n4l_tables\""
   ],
   "id": "8e075daf4204469a",
   "outputs": [],
   "execution_count": 2
  },
  {
   "metadata": {
    "ExecuteTime": {
     "end_time": "2025-04-25T21:45:27.764493Z",
     "start_time": "2025-04-25T21:45:27.761032Z"
    }
   },
   "cell_type": "code",
   "source": [
    "# Namespaces\n",
    "EX = Namespace(\"http://example.com/n4l_metpo_quantulum3/\")\n",
    "N4L = Namespace(\"http://example.com/n4l_metpo/\")"
   ],
   "id": "b9a3604681e4f4f5",
   "outputs": [],
   "execution_count": 3
  },
  {
   "metadata": {
    "ExecuteTime": {
     "end_time": "2025-04-25T21:45:27.811041Z",
     "start_time": "2025-04-25T21:45:27.808412Z"
    }
   },
   "cell_type": "code",
   "source": [
    "# Named graph URI\n",
    "graph_uri = URIRef(\"http://example.com/n4l_metpo/parsed_salinity\")"
   ],
   "id": "db0b6c3694210f18",
   "outputs": [],
   "execution_count": 4
  },
  {
   "metadata": {
    "ExecuteTime": {
     "end_time": "2025-04-25T21:45:27.860606Z",
     "start_time": "2025-04-25T21:45:27.857890Z"
    }
   },
   "cell_type": "code",
   "source": "parsed_salinity_nquads = \"parsed_salinity.nq\"",
   "id": "dd446093c877e9b3",
   "outputs": [],
   "execution_count": 5
  },
  {
   "metadata": {
    "ExecuteTime": {
     "end_time": "2025-04-25T21:45:27.910451Z",
     "start_time": "2025-04-25T21:45:27.907293Z"
    }
   },
   "cell_type": "code",
   "source": [
    "\n",
    "query = \"\"\"\n",
    "PREFIX owl: <http://www.w3.org/2002/07/owl#>\n",
    "PREFIX rdfs: <http://www.w3.org/2000/01/rdf-schema#>\n",
    "SELECT distinct ?provenance ?subject ?organism ?p ?value\n",
    "WHERE {\n",
    "    graph ?provenance {\n",
    "        ?subject ?p ?value .\n",
    "    }\n",
    "    ?subject owl:sameAs ?organism\n",
    "    graph <http://example.com/n4l_metpo/property_hierarchy> {\n",
    "        ?p rdfs:subPropertyOf <http://example.com/n4l_metpo/salinity_text> .\n",
    "    }\n",
    "    GRAPH <http://example.com/n4l_metpo/direct_ncbitaxid_same_as> {\n",
    "        ?organism a <http://example.com/n4l_metpo/organism> .\n",
    "    }\n",
    "}\n",
    "\"\"\""
   ],
   "id": "d501ec28171de402",
   "outputs": [],
   "execution_count": 6
  },
  {
   "metadata": {
    "ExecuteTime": {
     "end_time": "2025-04-25T21:45:27.960128Z",
     "start_time": "2025-04-25T21:45:27.956984Z"
    }
   },
   "cell_type": "code",
   "source": [
    "# Set up SPARQL connection\n",
    "sparql = SPARQLWrapper(endpoint_url)"
   ],
   "id": "6a1f60ad8fc46fea",
   "outputs": [],
   "execution_count": 7
  },
  {
   "metadata": {
    "ExecuteTime": {
     "end_time": "2025-04-25T21:45:28.013663Z",
     "start_time": "2025-04-25T21:45:28.010166Z"
    }
   },
   "cell_type": "code",
   "source": "sparql.setQuery(query)",
   "id": "ccdb787223a73550",
   "outputs": [],
   "execution_count": 8
  },
  {
   "metadata": {
    "ExecuteTime": {
     "end_time": "2025-04-25T21:45:28.061402Z",
     "start_time": "2025-04-25T21:45:28.058189Z"
    }
   },
   "cell_type": "code",
   "source": "sparql.setReturnFormat(JSON)",
   "id": "bd57de55848e1c50",
   "outputs": [],
   "execution_count": 9
  },
  {
   "metadata": {
    "ExecuteTime": {
     "end_time": "2025-04-25T21:45:29.862322Z",
     "start_time": "2025-04-25T21:45:28.108434Z"
    }
   },
   "cell_type": "code",
   "source": [
    "# Run the query\n",
    "results = sparql.query().convert()"
   ],
   "id": "ae0d3527410dcb23",
   "outputs": [],
   "execution_count": 10
  },
  {
   "metadata": {
    "ExecuteTime": {
     "end_time": "2025-04-25T21:45:29.879666Z",
     "start_time": "2025-04-25T21:45:29.876950Z"
    }
   },
   "cell_type": "code",
   "source": [
    "# Convert to DataFrame\n",
    "bindings = results[\"results\"][\"bindings\"]"
   ],
   "id": "c00ba29b5971bf90",
   "outputs": [],
   "execution_count": 11
  },
  {
   "metadata": {
    "ExecuteTime": {
     "end_time": "2025-04-25T21:45:56.558449Z",
     "start_time": "2025-04-25T21:45:56.548843Z"
    }
   },
   "cell_type": "code",
   "source": [
    "records = [\n",
    "    {\n",
    "        \"provenance\": b[\"provenance\"][\"value\"],\n",
    "        \"subject\": b[\"subject\"][\"value\"],\n",
    "        \"organism\": b[\"organism\"][\"value\"],\n",
    "        \"predicate\": b[\"p\"][\"value\"],\n",
    "        \"value\": b[\"value\"][\"value\"]\n",
    "    }\n",
    "    for b in bindings\n",
    "]"
   ],
   "id": "30cd5ef26eaa8192",
   "outputs": [],
   "execution_count": 13
  },
  {
   "metadata": {
    "ExecuteTime": {
     "end_time": "2025-04-25T21:45:58.422282Z",
     "start_time": "2025-04-25T21:45:58.416087Z"
    }
   },
   "cell_type": "code",
   "source": "df = pd.DataFrame(records)",
   "id": "2a1be0dae1cc6f5d",
   "outputs": [],
   "execution_count": 14
  },
  {
   "metadata": {
    "ExecuteTime": {
     "end_time": "2025-04-25T21:45:59.075017Z",
     "start_time": "2025-04-25T21:45:59.057933Z"
    }
   },
   "cell_type": "code",
   "source": "df",
   "id": "714d31ea7f1e93b1",
   "outputs": [
    {
     "data": {
      "text/plain": [
       "                                             provenance  \\\n",
       "0     http://example.com/n4l/protolog_normalization_...   \n",
       "1     http://example.com/n4l/protolog_normalization_...   \n",
       "2     http://example.com/n4l/protolog_normalization_...   \n",
       "3     http://example.com/n4l/protolog_normalization_...   \n",
       "4     http://example.com/n4l/protolog_normalization_...   \n",
       "...                                                 ...   \n",
       "3995  http://example.com/n4l/protolog_normalization_...   \n",
       "3996  http://example.com/n4l/protolog_normalization_...   \n",
       "3997  http://example.com/n4l/protolog_normalization_...   \n",
       "3998  http://example.com/n4l/protolog_normalization_...   \n",
       "3999  http://example.com/n4l/protolog_normalization_...   \n",
       "\n",
       "                                       subject  \\\n",
       "0      http://example.com/n4l/rid.3094_nm.9117   \n",
       "1      http://example.com/n4l/rid.3094_nm.9117   \n",
       "2      http://example.com/n4l/rid.3094_nm.9117   \n",
       "3      http://example.com/n4l/rid.3113_nm.6547   \n",
       "4      http://example.com/n4l/rid.3702_nm.9329   \n",
       "...                                        ...   \n",
       "3995  http://example.com/n4l/rid.2449_nm.11350   \n",
       "3996  http://example.com/n4l/rid.2449_nm.11350   \n",
       "3997   http://example.com/n4l/rid.2899_nm.5272   \n",
       "3998   http://example.com/n4l/rid.2899_nm.5272   \n",
       "3999   http://example.com/n4l/rid.2899_nm.5272   \n",
       "\n",
       "                                             organism  \\\n",
       "0       http://purl.obolibrary.org/obo/NCBITaxon_2704   \n",
       "1       http://purl.obolibrary.org/obo/NCBITaxon_2704   \n",
       "2       http://purl.obolibrary.org/obo/NCBITaxon_2704   \n",
       "3      http://purl.obolibrary.org/obo/NCBITaxon_76756   \n",
       "4     http://purl.obolibrary.org/obo/NCBITaxon_279572   \n",
       "...                                               ...   \n",
       "3995  http://purl.obolibrary.org/obo/NCBITaxon_407234   \n",
       "3996  http://purl.obolibrary.org/obo/NCBITaxon_407234   \n",
       "3997    http://purl.obolibrary.org/obo/NCBITaxon_1296   \n",
       "3998    http://purl.obolibrary.org/obo/NCBITaxon_1296   \n",
       "3999    http://purl.obolibrary.org/obo/NCBITaxon_1296   \n",
       "\n",
       "                                         predicate      value  \n",
       "0     http://example.com/n4l/na_cl_(does_not_grow)       0.02  \n",
       "1     http://example.com/n4l/na_cl_(does_not_grow)       0.02  \n",
       "2     http://example.com/n4l/na_cl_(does_not_grow)       0.02  \n",
       "3     http://example.com/n4l/na_cl_(does_not_grow)       0.03  \n",
       "4     http://example.com/n4l/na_cl_(does_not_grow)  6 % (w/v)  \n",
       "...                                            ...        ...  \n",
       "3995          http://example.com/n4l/na_cl_(grows)      1–4 %  \n",
       "3996          http://example.com/n4l/na_cl_(grows)      1–4 %  \n",
       "3997          http://example.com/n4l/na_cl_(grows)       0.15  \n",
       "3998          http://example.com/n4l/na_cl_(grows)       0.15  \n",
       "3999          http://example.com/n4l/na_cl_(grows)       0.15  \n",
       "\n",
       "[4000 rows x 5 columns]"
      ],
      "text/html": [
       "<div>\n",
       "<style scoped>\n",
       "    .dataframe tbody tr th:only-of-type {\n",
       "        vertical-align: middle;\n",
       "    }\n",
       "\n",
       "    .dataframe tbody tr th {\n",
       "        vertical-align: top;\n",
       "    }\n",
       "\n",
       "    .dataframe thead th {\n",
       "        text-align: right;\n",
       "    }\n",
       "</style>\n",
       "<table border=\"1\" class=\"dataframe\">\n",
       "  <thead>\n",
       "    <tr style=\"text-align: right;\">\n",
       "      <th></th>\n",
       "      <th>provenance</th>\n",
       "      <th>subject</th>\n",
       "      <th>organism</th>\n",
       "      <th>predicate</th>\n",
       "      <th>value</th>\n",
       "    </tr>\n",
       "  </thead>\n",
       "  <tbody>\n",
       "    <tr>\n",
       "      <th>0</th>\n",
       "      <td>http://example.com/n4l/protolog_normalization_...</td>\n",
       "      <td>http://example.com/n4l/rid.3094_nm.9117</td>\n",
       "      <td>http://purl.obolibrary.org/obo/NCBITaxon_2704</td>\n",
       "      <td>http://example.com/n4l/na_cl_(does_not_grow)</td>\n",
       "      <td>0.02</td>\n",
       "    </tr>\n",
       "    <tr>\n",
       "      <th>1</th>\n",
       "      <td>http://example.com/n4l/protolog_normalization_...</td>\n",
       "      <td>http://example.com/n4l/rid.3094_nm.9117</td>\n",
       "      <td>http://purl.obolibrary.org/obo/NCBITaxon_2704</td>\n",
       "      <td>http://example.com/n4l/na_cl_(does_not_grow)</td>\n",
       "      <td>0.02</td>\n",
       "    </tr>\n",
       "    <tr>\n",
       "      <th>2</th>\n",
       "      <td>http://example.com/n4l/protolog_normalization_...</td>\n",
       "      <td>http://example.com/n4l/rid.3094_nm.9117</td>\n",
       "      <td>http://purl.obolibrary.org/obo/NCBITaxon_2704</td>\n",
       "      <td>http://example.com/n4l/na_cl_(does_not_grow)</td>\n",
       "      <td>0.02</td>\n",
       "    </tr>\n",
       "    <tr>\n",
       "      <th>3</th>\n",
       "      <td>http://example.com/n4l/protolog_normalization_...</td>\n",
       "      <td>http://example.com/n4l/rid.3113_nm.6547</td>\n",
       "      <td>http://purl.obolibrary.org/obo/NCBITaxon_76756</td>\n",
       "      <td>http://example.com/n4l/na_cl_(does_not_grow)</td>\n",
       "      <td>0.03</td>\n",
       "    </tr>\n",
       "    <tr>\n",
       "      <th>4</th>\n",
       "      <td>http://example.com/n4l/protolog_normalization_...</td>\n",
       "      <td>http://example.com/n4l/rid.3702_nm.9329</td>\n",
       "      <td>http://purl.obolibrary.org/obo/NCBITaxon_279572</td>\n",
       "      <td>http://example.com/n4l/na_cl_(does_not_grow)</td>\n",
       "      <td>6 % (w/v)</td>\n",
       "    </tr>\n",
       "    <tr>\n",
       "      <th>...</th>\n",
       "      <td>...</td>\n",
       "      <td>...</td>\n",
       "      <td>...</td>\n",
       "      <td>...</td>\n",
       "      <td>...</td>\n",
       "    </tr>\n",
       "    <tr>\n",
       "      <th>3995</th>\n",
       "      <td>http://example.com/n4l/protolog_normalization_...</td>\n",
       "      <td>http://example.com/n4l/rid.2449_nm.11350</td>\n",
       "      <td>http://purl.obolibrary.org/obo/NCBITaxon_407234</td>\n",
       "      <td>http://example.com/n4l/na_cl_(grows)</td>\n",
       "      <td>1–4 %</td>\n",
       "    </tr>\n",
       "    <tr>\n",
       "      <th>3996</th>\n",
       "      <td>http://example.com/n4l/protolog_normalization_...</td>\n",
       "      <td>http://example.com/n4l/rid.2449_nm.11350</td>\n",
       "      <td>http://purl.obolibrary.org/obo/NCBITaxon_407234</td>\n",
       "      <td>http://example.com/n4l/na_cl_(grows)</td>\n",
       "      <td>1–4 %</td>\n",
       "    </tr>\n",
       "    <tr>\n",
       "      <th>3997</th>\n",
       "      <td>http://example.com/n4l/protolog_normalization_...</td>\n",
       "      <td>http://example.com/n4l/rid.2899_nm.5272</td>\n",
       "      <td>http://purl.obolibrary.org/obo/NCBITaxon_1296</td>\n",
       "      <td>http://example.com/n4l/na_cl_(grows)</td>\n",
       "      <td>0.15</td>\n",
       "    </tr>\n",
       "    <tr>\n",
       "      <th>3998</th>\n",
       "      <td>http://example.com/n4l/protolog_normalization_...</td>\n",
       "      <td>http://example.com/n4l/rid.2899_nm.5272</td>\n",
       "      <td>http://purl.obolibrary.org/obo/NCBITaxon_1296</td>\n",
       "      <td>http://example.com/n4l/na_cl_(grows)</td>\n",
       "      <td>0.15</td>\n",
       "    </tr>\n",
       "    <tr>\n",
       "      <th>3999</th>\n",
       "      <td>http://example.com/n4l/protolog_normalization_...</td>\n",
       "      <td>http://example.com/n4l/rid.2899_nm.5272</td>\n",
       "      <td>http://purl.obolibrary.org/obo/NCBITaxon_1296</td>\n",
       "      <td>http://example.com/n4l/na_cl_(grows)</td>\n",
       "      <td>0.15</td>\n",
       "    </tr>\n",
       "  </tbody>\n",
       "</table>\n",
       "<p>4000 rows × 5 columns</p>\n",
       "</div>"
      ]
     },
     "execution_count": 15,
     "metadata": {},
     "output_type": "execute_result"
    }
   ],
   "execution_count": 15
  },
  {
   "metadata": {
    "ExecuteTime": {
     "end_time": "2025-04-25T21:46:08.579103Z",
     "start_time": "2025-04-25T21:46:08.569510Z"
    }
   },
   "cell_type": "code",
   "source": [
    "# Create an RDF Dataset\n",
    "ds = Dataset()\n",
    "g = ds.graph(graph_uri)\n",
    "\n",
    "g.bind(\"ex\", EX)\n",
    "g.bind(\"xsd\", XSD)\n",
    "g.bind(\"n4l\", N4L)"
   ],
   "id": "81c24913f4724a31",
   "outputs": [],
   "execution_count": 16
  },
  {
   "metadata": {
    "ExecuteTime": {
     "end_time": "2025-04-25T21:46:20.759111Z",
     "start_time": "2025-04-25T21:46:13.008497Z"
    }
   },
   "cell_type": "code",
   "source": [
    "# Iterate through the DataFrame\n",
    "for idx, row in df.iterrows():\n",
    "    provenance_graph = URIRef(row[\"provenance\"])\n",
    "    subject = URIRef(row[\"subject\"])\n",
    "    organism = URIRef(row[\"organism\"])\n",
    "    predicate = URIRef(row[\"predicate\"])\n",
    "    input_text = row[\"value\"]\n",
    "\n",
    "    # Create a node for the parsing source\n",
    "    source_node = BNode()\n",
    "    g.add((source_node, RDF.type, EX.ParsingSource))\n",
    "    g.add((source_node, EX.hasRawText, Literal(input_text)))\n",
    "\n",
    "    # Attach provenance information\n",
    "    g.add((source_node, EX.provenanceGraph, provenance_graph))\n",
    "    g.add((source_node, EX.originalSubject, subject))\n",
    "    g.add((source_node, EX.organism, organism))\n",
    "    g.add((source_node, EX.predicate, predicate))\n",
    "\n",
    "    # Parse quantities\n",
    "    quantities = parser.parse(input_text)\n",
    "\n",
    "    for q in quantities:\n",
    "        quantity_node = BNode()\n",
    "        g.add((quantity_node, RDF.type, EX.ParsedQuantity))\n",
    "        g.add((quantity_node, EX.surfaceText, Literal(q.surface)))\n",
    "\n",
    "        # Handle min/max\n",
    "        if q.uncertainty is None:\n",
    "            min_value = max_value = q.value\n",
    "        else:\n",
    "            min_value = q.value - q.uncertainty\n",
    "            max_value = q.value + q.uncertainty\n",
    "\n",
    "        g.add((quantity_node, EX.hasMinimumValue, Literal(min_value, datatype=XSD.double)))\n",
    "        g.add((quantity_node, EX.hasMaximumValue, Literal(max_value, datatype=XSD.double)))\n",
    "\n",
    "        if q.unit and q.unit.name != \"dimensionless\":\n",
    "            g.add((quantity_node, EX.hasUnit, Literal(q.unit.name)))\n",
    "\n",
    "        # Handle prefix/suffix\n",
    "        span_start, span_end = q.span\n",
    "        prefix = input_text[:span_start].strip()\n",
    "        suffix = input_text[span_end:].strip()\n",
    "\n",
    "        if prefix:\n",
    "            g.add((quantity_node, EX.prefixText, Literal(prefix)))\n",
    "        if suffix:\n",
    "            g.add((quantity_node, EX.suffixText, Literal(suffix)))\n",
    "\n",
    "        # Link quantity to its parsing source\n",
    "        g.add((quantity_node, EX.fromSource, source_node))"
   ],
   "id": "282ca2ade488bdae",
   "outputs": [],
   "execution_count": 17
  },
  {
   "metadata": {
    "ExecuteTime": {
     "end_time": "2025-04-25T21:50:16.576559Z",
     "start_time": "2025-04-25T21:50:16.282147Z"
    }
   },
   "cell_type": "code",
   "source": [
    "# Serialize into N-Quads string (not saving to file)\n",
    "nquads_output = ds.serialize(format=\"nquads\")"
   ],
   "id": "c85bd68d0d24407a",
   "outputs": [],
   "execution_count": 21
  },
  {
   "metadata": {
    "ExecuteTime": {
     "end_time": "2025-04-25T21:50:17.253013Z",
     "start_time": "2025-04-25T21:50:17.250189Z"
    }
   },
   "cell_type": "code",
   "source": "upload_url = f\"{endpoint_url}/statements\"",
   "id": "5ddaec6437e9b8c2",
   "outputs": [],
   "execution_count": 22
  },
  {
   "metadata": {
    "ExecuteTime": {
     "end_time": "2025-04-25T21:50:20.692686Z",
     "start_time": "2025-04-25T21:50:18.072024Z"
    }
   },
   "cell_type": "code",
   "source": [
    "# POST directly from memory\n",
    "response = requests.post(\n",
    "    upload_url,\n",
    "    headers={\"Content-Type\": \"application/n-quads\"},\n",
    "    data=nquads_output.encode(\"utf-8\")  # requests expects bytes\n",
    ")\n",
    "\n",
    "# Check result\n",
    "print(f\"Status code: {response.status_code}\")\n",
    "if response.ok:\n",
    "    print(\"✅ Upload successful!\")\n",
    "else:\n",
    "    print(f\"❌ Upload failed: {response.text}\")"
   ],
   "id": "deeb31f98cbb91e8",
   "outputs": [
    {
     "name": "stdout",
     "output_type": "stream",
     "text": [
      "Status code: 204\n",
      "✅ Upload successful!\n"
     ]
    }
   ],
   "execution_count": 23
  },
  {
   "metadata": {},
   "cell_type": "code",
   "outputs": [],
   "execution_count": null,
   "source": "",
   "id": "8f923efe2f66eb99"
  }
 ],
 "metadata": {
  "kernelspec": {
   "display_name": "Python 3",
   "language": "python",
   "name": "python3"
  },
  "language_info": {
   "codemirror_mode": {
    "name": "ipython",
    "version": 2
   },
   "file_extension": ".py",
   "mimetype": "text/x-python",
   "name": "python",
   "nbconvert_exporter": "python",
   "pygments_lexer": "ipython2",
   "version": "2.7.6"
  }
 },
 "nbformat": 4,
 "nbformat_minor": 5
}

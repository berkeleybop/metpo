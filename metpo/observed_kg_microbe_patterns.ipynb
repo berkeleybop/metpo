{
 "cells": [
  {
   "metadata": {
    "ExecuteTime": {
     "end_time": "2025-05-29T17:15:05.757864Z",
     "start_time": "2025-05-29T17:15:05.224682Z"
    }
   },
   "cell_type": "code",
   "source": [
    "from collections import defaultdict\n",
    "\n",
    "from plotly.subplots import make_subplots\n",
    "import networkx as nx\n",
    "import numpy as np\n",
    "import pandas as pd\n",
    "import plotly.express as px\n",
    "import plotly.graph_objects as go\n",
    "import re"
   ],
   "id": "d762c1e6c7124e55",
   "outputs": [],
   "execution_count": 1
  },
  {
   "metadata": {},
   "cell_type": "markdown",
   "source": [
    "```sparql\n",
    "PREFIX rdfs: <http://www.w3.org/2000/01/rdf-schema#>\n",
    "PREFIX rdf: <http://www.w3.org/1999/02/22-rdf-syntax-ns#>\n",
    "\n",
    "SELECT ?sc ?p ?oc (COUNT(?s) AS ?count)\n",
    "WHERE {\n",
    "  ?s ?p ?o .\n",
    "  OPTIONAL { ?s <https://w3id.org/biolink/vocab/category> ?sc . }\n",
    "  OPTIONAL { ?o <https://w3id.org/biolink/vocab/category> ?oc . }\n",
    "  FILTER(CONTAINS(STR(?p),\"https://w3id.org/biolink/vocab/\"))\n",
    "}\n",
    "GROUP BY ?sc ?p ?oc\n",
    "order by ?sc ?p ?oc\n",
    "\n",
    "# EXCLUDES\n",
    "#http://purl.org/dc/terms/description\n",
    "#https://www.example.org/UNKNOWN/meta\n",
    "#https://www.example.org/UNKNOWN/primary_knowledge_source.1\n",
    "#https://www.example.org/UNKNOWN/subsets\n",
    "#rdf:object\n",
    "#rdf:predicate\n",
    "#rdf:subject\n",
    "#rdf:type\n",
    "#rdfs:label\n",
    "```"
   ],
   "id": "5e8fc529d78f54c7"
  },
  {
   "metadata": {
    "ExecuteTime": {
     "end_time": "2025-05-29T17:15:07.528317Z",
     "start_time": "2025-05-29T17:15:07.523206Z"
    }
   },
   "cell_type": "code",
   "source": "relations_data = \"../assets/kg-microbe-types-bioloink-relations.csv\"",
   "id": "c060b66053d345c2",
   "outputs": [],
   "execution_count": 2
  },
  {
   "metadata": {
    "ExecuteTime": {
     "end_time": "2025-05-29T17:15:09.648294Z",
     "start_time": "2025-05-29T17:15:09.640549Z"
    }
   },
   "cell_type": "code",
   "source": [
    "# Read the CSV file\n",
    "df = pd.read_csv(relations_data)"
   ],
   "id": "1c27dbb7792db163",
   "outputs": [],
   "execution_count": 3
  },
  {
   "metadata": {
    "ExecuteTime": {
     "end_time": "2025-05-29T17:15:10.433759Z",
     "start_time": "2025-05-29T17:15:10.428315Z"
    }
   },
   "cell_type": "code",
   "source": "print(\"Data shape:\", df.shape)",
   "id": "e9325c3f681c9030",
   "outputs": [
    {
     "name": "stdout",
     "output_type": "stream",
     "text": [
      "Data shape: (203, 4)\n"
     ]
    }
   ],
   "execution_count": 4
  },
  {
   "metadata": {
    "ExecuteTime": {
     "end_time": "2025-05-29T17:15:11.169599Z",
     "start_time": "2025-05-29T17:15:11.163131Z"
    }
   },
   "cell_type": "code",
   "source": [
    "# Clean the count column (remove RDF literal formatting)\n",
    "def extract_count(count_str):\n",
    "    \"\"\"Extract integer from RDF literal format like '\\\"123\\\"^^xsd:integer'\"\"\"\n",
    "    if pd.isna(count_str):\n",
    "        return 0\n",
    "    match = re.search(r'\"(\\d+)\"', str(count_str))\n",
    "    return int(match.group(1)) if match else 0"
   ],
   "id": "616adb059d608a40",
   "outputs": [],
   "execution_count": 5
  },
  {
   "metadata": {
    "ExecuteTime": {
     "end_time": "2025-05-29T17:15:11.885169Z",
     "start_time": "2025-05-29T17:15:11.876051Z"
    }
   },
   "cell_type": "code",
   "source": "df['count_clean'] = df['count'].apply(extract_count)",
   "id": "5d64ce950de15177",
   "outputs": [],
   "execution_count": 6
  },
  {
   "metadata": {
    "ExecuteTime": {
     "end_time": "2025-05-29T17:15:13.527826Z",
     "start_time": "2025-05-29T17:15:13.522285Z"
    }
   },
   "cell_type": "code",
   "source": [
    "# Filter for complete sc-p-oc patterns (remove rows with missing sc or oc)\n",
    "network_df = df.dropna(subset=['sc', 'oc']).copy()"
   ],
   "id": "7131c220a927ab65",
   "outputs": [],
   "execution_count": 7
  },
  {
   "metadata": {
    "ExecuteTime": {
     "end_time": "2025-05-29T17:15:14.652770Z",
     "start_time": "2025-05-29T17:15:14.648802Z"
    }
   },
   "cell_type": "code",
   "source": "print(f\"\\nRows with complete sc-p-oc patterns: {len(network_df)}\")",
   "id": "aa301e3d600824a1",
   "outputs": [
    {
     "name": "stdout",
     "output_type": "stream",
     "text": [
      "\n",
      "Rows with complete sc-p-oc patterns: 139\n"
     ]
    }
   ],
   "execution_count": 8
  },
  {
   "metadata": {
    "ExecuteTime": {
     "end_time": "2025-05-29T17:15:15.431339Z",
     "start_time": "2025-05-29T17:15:15.424562Z"
    }
   },
   "cell_type": "code",
   "source": [
    "# Function to extract label from IRI (part after last slash)\n",
    "def get_label(iri):\n",
    "    \"\"\"Extract the label from an IRI (part after the last slash)\"\"\"\n",
    "    if pd.isna(iri):\n",
    "        return ''\n",
    "    return str(iri).split('/')[-1]"
   ],
   "id": "62ac3be1aef7d544",
   "outputs": [],
   "execution_count": 9
  },
  {
   "metadata": {
    "ExecuteTime": {
     "end_time": "2025-05-29T17:15:16.207919Z",
     "start_time": "2025-05-29T17:15:16.200314Z"
    }
   },
   "cell_type": "code",
   "source": [
    "network_df['sc_label'] = network_df['sc'].apply(get_label)\n",
    "network_df['oc_label'] = network_df['oc'].apply(get_label)\n",
    "network_df['p_label'] = network_df['p'].apply(get_label)"
   ],
   "id": "53b344d9fc9420a",
   "outputs": [],
   "execution_count": 10
  },
  {
   "metadata": {
    "ExecuteTime": {
     "end_time": "2025-05-29T17:15:17.068136Z",
     "start_time": "2025-05-29T17:15:17.063593Z"
    }
   },
   "cell_type": "code",
   "source": [
    "print(\"\\nCount statistics:\")\n",
    "print(f\"Min: {network_df['count_clean'].min()}\")\n",
    "print(f\"Max: {network_df['count_clean'].max()}\")\n",
    "print(f\"Median: {network_df['count_clean'].median()}\")"
   ],
   "id": "dd89b5850004e4f7",
   "outputs": [
    {
     "name": "stdout",
     "output_type": "stream",
     "text": [
      "\n",
      "Count statistics:\n",
      "Min: 1\n",
      "Max: 1006639\n",
      "Median: 435.0\n"
     ]
    }
   ],
   "execution_count": 11
  },
  {
   "metadata": {
    "ExecuteTime": {
     "end_time": "2025-05-29T17:15:18.100661Z",
     "start_time": "2025-05-29T17:15:18.095569Z"
    }
   },
   "cell_type": "code",
   "source": [
    "# Remove rows where either sc_label or oc_label is NamedThing \n",
    "network_df = network_df[~((network_df['sc_label'] == 'NamedThing') | (network_df['oc_label'] == 'NamedThing'))]\n"
   ],
   "id": "cac48a7d9a91b180",
   "outputs": [],
   "execution_count": 12
  },
  {
   "metadata": {
    "ExecuteTime": {
     "end_time": "2025-05-29T17:15:18.906299Z",
     "start_time": "2025-05-29T17:15:18.901559Z"
    }
   },
   "cell_type": "code",
   "source": "network_df = network_df[network_df['p_label'] != 'subclass_of']\n",
   "id": "29c7b11453d38d81",
   "outputs": [],
   "execution_count": 13
  },
  {
   "metadata": {
    "ExecuteTime": {
     "end_time": "2025-05-29T17:15:19.804071Z",
     "start_time": "2025-05-29T17:15:19.788828Z"
    }
   },
   "cell_type": "code",
   "source": "network_df",
   "id": "35c4b130f905967",
   "outputs": [
    {
     "data": {
      "text/plain": [
       "                                                   sc  \\\n",
       "6     https://w3id.org/biolink/vocab/AnatomicalEntity   \n",
       "8     https://w3id.org/biolink/vocab/AnatomicalEntity   \n",
       "9     https://w3id.org/biolink/vocab/AnatomicalEntity   \n",
       "16   https://w3id.org/biolink/vocab/BiologicalProcess   \n",
       "19   https://w3id.org/biolink/vocab/BiologicalProcess   \n",
       "..                                                ...   \n",
       "194  https://w3id.org/biolink/vocab/PhenotypicQuality   \n",
       "195  https://w3id.org/biolink/vocab/PhenotypicQuality   \n",
       "197  https://w3id.org/biolink/vocab/PhenotypicQuality   \n",
       "199  https://w3id.org/biolink/vocab/PhenotypicQuality   \n",
       "200  https://w3id.org/biolink/vocab/PhenotypicQuality   \n",
       "\n",
       "                                                 p  \\\n",
       "6       https://w3id.org/biolink/vocab/location_of   \n",
       "8        https://w3id.org/biolink/vocab/related_to   \n",
       "9        https://w3id.org/biolink/vocab/related_to   \n",
       "16       https://w3id.org/biolink/vocab/capable_of   \n",
       "19       https://w3id.org/biolink/vocab/enabled_by   \n",
       "..                                             ...   \n",
       "194        https://w3id.org/biolink/vocab/consumes   \n",
       "195        https://w3id.org/biolink/vocab/consumes   \n",
       "197  https://w3id.org/biolink/vocab/is_assessed_by   \n",
       "199      https://w3id.org/biolink/vocab/related_to   \n",
       "200      https://w3id.org/biolink/vocab/related_to   \n",
       "\n",
       "                                                    oc                count  \\\n",
       "6         https://w3id.org/biolink/vocab/OrganismTaxon  \"1763\"^^xsd:integer   \n",
       "8      https://w3id.org/biolink/vocab/AnatomicalEntity   \"631\"^^xsd:integer   \n",
       "9    https://w3id.org/biolink/vocab/EnvironmentalFe...     \"8\"^^xsd:integer   \n",
       "16    https://w3id.org/biolink/vocab/BiologicalProcess     \"2\"^^xsd:integer   \n",
       "19    https://w3id.org/biolink/vocab/BiologicalProcess   \"435\"^^xsd:integer   \n",
       "..                                                 ...                  ...   \n",
       "194      https://w3id.org/biolink/vocab/ChemicalEntity    \"44\"^^xsd:integer   \n",
       "195   https://w3id.org/biolink/vocab/ChemicalSubstance    \"14\"^^xsd:integer   \n",
       "197   https://w3id.org/biolink/vocab/PhenotypicQuality    \"98\"^^xsd:integer   \n",
       "199   https://w3id.org/biolink/vocab/BiologicalProcess    \"65\"^^xsd:integer   \n",
       "200   https://w3id.org/biolink/vocab/MolecularActivity    \"65\"^^xsd:integer   \n",
       "\n",
       "     count_clean           sc_label              oc_label         p_label  \n",
       "6           1763   AnatomicalEntity         OrganismTaxon     location_of  \n",
       "8            631   AnatomicalEntity      AnatomicalEntity      related_to  \n",
       "9              8   AnatomicalEntity  EnvironmentalFeature      related_to  \n",
       "16             2  BiologicalProcess     BiologicalProcess      capable_of  \n",
       "19           435  BiologicalProcess     BiologicalProcess      enabled_by  \n",
       "..           ...                ...                   ...             ...  \n",
       "194           44  PhenotypicQuality        ChemicalEntity        consumes  \n",
       "195           14  PhenotypicQuality     ChemicalSubstance        consumes  \n",
       "197           98  PhenotypicQuality     PhenotypicQuality  is_assessed_by  \n",
       "199           65  PhenotypicQuality     BiologicalProcess      related_to  \n",
       "200           65  PhenotypicQuality     MolecularActivity      related_to  \n",
       "\n",
       "[87 rows x 8 columns]"
      ],
      "text/html": [
       "<div>\n",
       "<style scoped>\n",
       "    .dataframe tbody tr th:only-of-type {\n",
       "        vertical-align: middle;\n",
       "    }\n",
       "\n",
       "    .dataframe tbody tr th {\n",
       "        vertical-align: top;\n",
       "    }\n",
       "\n",
       "    .dataframe thead th {\n",
       "        text-align: right;\n",
       "    }\n",
       "</style>\n",
       "<table border=\"1\" class=\"dataframe\">\n",
       "  <thead>\n",
       "    <tr style=\"text-align: right;\">\n",
       "      <th></th>\n",
       "      <th>sc</th>\n",
       "      <th>p</th>\n",
       "      <th>oc</th>\n",
       "      <th>count</th>\n",
       "      <th>count_clean</th>\n",
       "      <th>sc_label</th>\n",
       "      <th>oc_label</th>\n",
       "      <th>p_label</th>\n",
       "    </tr>\n",
       "  </thead>\n",
       "  <tbody>\n",
       "    <tr>\n",
       "      <th>6</th>\n",
       "      <td>https://w3id.org/biolink/vocab/AnatomicalEntity</td>\n",
       "      <td>https://w3id.org/biolink/vocab/location_of</td>\n",
       "      <td>https://w3id.org/biolink/vocab/OrganismTaxon</td>\n",
       "      <td>\"1763\"^^xsd:integer</td>\n",
       "      <td>1763</td>\n",
       "      <td>AnatomicalEntity</td>\n",
       "      <td>OrganismTaxon</td>\n",
       "      <td>location_of</td>\n",
       "    </tr>\n",
       "    <tr>\n",
       "      <th>8</th>\n",
       "      <td>https://w3id.org/biolink/vocab/AnatomicalEntity</td>\n",
       "      <td>https://w3id.org/biolink/vocab/related_to</td>\n",
       "      <td>https://w3id.org/biolink/vocab/AnatomicalEntity</td>\n",
       "      <td>\"631\"^^xsd:integer</td>\n",
       "      <td>631</td>\n",
       "      <td>AnatomicalEntity</td>\n",
       "      <td>AnatomicalEntity</td>\n",
       "      <td>related_to</td>\n",
       "    </tr>\n",
       "    <tr>\n",
       "      <th>9</th>\n",
       "      <td>https://w3id.org/biolink/vocab/AnatomicalEntity</td>\n",
       "      <td>https://w3id.org/biolink/vocab/related_to</td>\n",
       "      <td>https://w3id.org/biolink/vocab/EnvironmentalFe...</td>\n",
       "      <td>\"8\"^^xsd:integer</td>\n",
       "      <td>8</td>\n",
       "      <td>AnatomicalEntity</td>\n",
       "      <td>EnvironmentalFeature</td>\n",
       "      <td>related_to</td>\n",
       "    </tr>\n",
       "    <tr>\n",
       "      <th>16</th>\n",
       "      <td>https://w3id.org/biolink/vocab/BiologicalProcess</td>\n",
       "      <td>https://w3id.org/biolink/vocab/capable_of</td>\n",
       "      <td>https://w3id.org/biolink/vocab/BiologicalProcess</td>\n",
       "      <td>\"2\"^^xsd:integer</td>\n",
       "      <td>2</td>\n",
       "      <td>BiologicalProcess</td>\n",
       "      <td>BiologicalProcess</td>\n",
       "      <td>capable_of</td>\n",
       "    </tr>\n",
       "    <tr>\n",
       "      <th>19</th>\n",
       "      <td>https://w3id.org/biolink/vocab/BiologicalProcess</td>\n",
       "      <td>https://w3id.org/biolink/vocab/enabled_by</td>\n",
       "      <td>https://w3id.org/biolink/vocab/BiologicalProcess</td>\n",
       "      <td>\"435\"^^xsd:integer</td>\n",
       "      <td>435</td>\n",
       "      <td>BiologicalProcess</td>\n",
       "      <td>BiologicalProcess</td>\n",
       "      <td>enabled_by</td>\n",
       "    </tr>\n",
       "    <tr>\n",
       "      <th>...</th>\n",
       "      <td>...</td>\n",
       "      <td>...</td>\n",
       "      <td>...</td>\n",
       "      <td>...</td>\n",
       "      <td>...</td>\n",
       "      <td>...</td>\n",
       "      <td>...</td>\n",
       "      <td>...</td>\n",
       "    </tr>\n",
       "    <tr>\n",
       "      <th>194</th>\n",
       "      <td>https://w3id.org/biolink/vocab/PhenotypicQuality</td>\n",
       "      <td>https://w3id.org/biolink/vocab/consumes</td>\n",
       "      <td>https://w3id.org/biolink/vocab/ChemicalEntity</td>\n",
       "      <td>\"44\"^^xsd:integer</td>\n",
       "      <td>44</td>\n",
       "      <td>PhenotypicQuality</td>\n",
       "      <td>ChemicalEntity</td>\n",
       "      <td>consumes</td>\n",
       "    </tr>\n",
       "    <tr>\n",
       "      <th>195</th>\n",
       "      <td>https://w3id.org/biolink/vocab/PhenotypicQuality</td>\n",
       "      <td>https://w3id.org/biolink/vocab/consumes</td>\n",
       "      <td>https://w3id.org/biolink/vocab/ChemicalSubstance</td>\n",
       "      <td>\"14\"^^xsd:integer</td>\n",
       "      <td>14</td>\n",
       "      <td>PhenotypicQuality</td>\n",
       "      <td>ChemicalSubstance</td>\n",
       "      <td>consumes</td>\n",
       "    </tr>\n",
       "    <tr>\n",
       "      <th>197</th>\n",
       "      <td>https://w3id.org/biolink/vocab/PhenotypicQuality</td>\n",
       "      <td>https://w3id.org/biolink/vocab/is_assessed_by</td>\n",
       "      <td>https://w3id.org/biolink/vocab/PhenotypicQuality</td>\n",
       "      <td>\"98\"^^xsd:integer</td>\n",
       "      <td>98</td>\n",
       "      <td>PhenotypicQuality</td>\n",
       "      <td>PhenotypicQuality</td>\n",
       "      <td>is_assessed_by</td>\n",
       "    </tr>\n",
       "    <tr>\n",
       "      <th>199</th>\n",
       "      <td>https://w3id.org/biolink/vocab/PhenotypicQuality</td>\n",
       "      <td>https://w3id.org/biolink/vocab/related_to</td>\n",
       "      <td>https://w3id.org/biolink/vocab/BiologicalProcess</td>\n",
       "      <td>\"65\"^^xsd:integer</td>\n",
       "      <td>65</td>\n",
       "      <td>PhenotypicQuality</td>\n",
       "      <td>BiologicalProcess</td>\n",
       "      <td>related_to</td>\n",
       "    </tr>\n",
       "    <tr>\n",
       "      <th>200</th>\n",
       "      <td>https://w3id.org/biolink/vocab/PhenotypicQuality</td>\n",
       "      <td>https://w3id.org/biolink/vocab/related_to</td>\n",
       "      <td>https://w3id.org/biolink/vocab/MolecularActivity</td>\n",
       "      <td>\"65\"^^xsd:integer</td>\n",
       "      <td>65</td>\n",
       "      <td>PhenotypicQuality</td>\n",
       "      <td>MolecularActivity</td>\n",
       "      <td>related_to</td>\n",
       "    </tr>\n",
       "  </tbody>\n",
       "</table>\n",
       "<p>87 rows × 8 columns</p>\n",
       "</div>"
      ]
     },
     "execution_count": 14,
     "metadata": {},
     "output_type": "execute_result"
    }
   ],
   "execution_count": 14
  },
  {
   "metadata": {
    "ExecuteTime": {
     "end_time": "2025-05-29T17:15:48.835738Z",
     "start_time": "2025-05-29T17:15:48.825962Z"
    }
   },
   "cell_type": "code",
   "source": "network_df.to_csv(\"network_df.tsv\", sep='\\t', index=False)",
   "id": "f4889e84ca9f515c",
   "outputs": [],
   "execution_count": 16
  },
  {
   "metadata": {},
   "cell_type": "code",
   "source": [
    "# Create nodes and edges for the network\n",
    "# Get all unique classes (both subject and object)\n",
    "all_classes = pd.concat([\n",
    "    network_df[['sc', 'sc_label']].rename(columns={'sc': 'iri', 'sc_label': 'label'}),\n",
    "    network_df[['oc', 'oc_label']].rename(columns={'oc': 'iri', 'oc_label': 'label'})\n",
    "]).drop_duplicates()"
   ],
   "id": "e682ce41c4244e45",
   "outputs": [],
   "execution_count": null
  },
  {
   "metadata": {},
   "cell_type": "code",
   "source": [
    "# Create node mapping\n",
    "node_list = list(all_classes['iri'].unique())\n",
    "node_indices = {node: i for i, node in enumerate(node_list)}\n",
    "node_labels = {row['iri']: row['label'] for _, row in all_classes.iterrows()}"
   ],
   "id": "46fc27e7627ae072",
   "outputs": [],
   "execution_count": null
  },
  {
   "metadata": {},
   "cell_type": "code",
   "source": [
    "print(f\"\\nNetwork size:\")\n",
    "print(f\"Nodes: {len(node_list)}\")\n",
    "print(f\"Edges: {len(network_df)}\")"
   ],
   "id": "8e73531c9f872c97",
   "outputs": [],
   "execution_count": null
  },
  {
   "metadata": {},
   "cell_type": "code",
   "source": [
    "# Create NetworkX graph for better layout\n",
    "G = nx.Graph()"
   ],
   "id": "1f1892104300cf3e",
   "outputs": [],
   "execution_count": null
  },
  {
   "metadata": {},
   "cell_type": "code",
   "source": [
    "# Add nodes\n",
    "for node in node_list:\n",
    "    G.add_node(node, label=node_labels[node])\n"
   ],
   "id": "adecf37b556675b7",
   "outputs": [],
   "execution_count": null
  },
  {
   "metadata": {},
   "cell_type": "code",
   "source": [
    "# Add edges (for layout purposes, we'll use undirected but visualize as directed)\n",
    "for _, row in network_df.iterrows():\n",
    "    G.add_edge(row['sc'], row['oc'],\n",
    "               predicate=row['p_label'],\n",
    "               weight=row['count_clean'])"
   ],
   "id": "5d1efa0effc7c099",
   "outputs": [],
   "execution_count": null
  },
  {
   "metadata": {},
   "cell_type": "code",
   "source": [
    "# Get node positions using spring layout\n",
    "pos = nx.spring_layout(G, k=3, iterations=50, seed=42)"
   ],
   "id": "11cc731edc6af727",
   "outputs": [],
   "execution_count": null
  },
  {
   "metadata": {},
   "cell_type": "code",
   "source": [
    "# Prepare data for Plotly\n",
    "node_x = [pos[node][0] for node in node_list]\n",
    "node_y = [pos[node][1] for node in node_list]\n",
    "node_text = [node_labels[node] for node in node_list]"
   ],
   "id": "bb7c2aa6507d6632",
   "outputs": [],
   "execution_count": null
  },
  {
   "metadata": {},
   "cell_type": "code",
   "source": [
    "# Calculate edge traces\n",
    "edge_x = []\n",
    "edge_y = []\n",
    "edge_info = []"
   ],
   "id": "aa3bbccac8f10932",
   "outputs": [],
   "execution_count": null
  },
  {
   "metadata": {},
   "cell_type": "code",
   "source": [
    "\n",
    "# For edge width scaling - use log scale due to wide range\n",
    "min_count = network_df['count_clean'].min()\n",
    "max_count = network_df['count_clean'].max()"
   ],
   "id": "93aba37713388e3a",
   "outputs": [],
   "execution_count": null
  },
  {
   "metadata": {},
   "cell_type": "code",
   "source": [
    "def scale_edge_width(count, min_width=0.5, max_width=10):\n",
    "    \"\"\"Scale edge width using logarithmic scaling\"\"\"\n",
    "    if count <= 0:\n",
    "        return min_width\n",
    "    log_count = np.log10(count)\n",
    "    log_min = np.log10(min_count)\n",
    "    log_max = np.log10(max_count)\n",
    "\n",
    "    # Normalize to 0-1 range\n",
    "    normalized = (log_count - log_min) / (log_max - log_min)\n",
    "    return min_width + normalized * (max_width - min_width)"
   ],
   "id": "10b56ec52bba0468",
   "outputs": [],
   "execution_count": null
  },
  {
   "metadata": {},
   "cell_type": "code",
   "source": [
    "\n",
    "edge_traces = []\n",
    "edge_annotations = []\n",
    "edge_labels = []\n",
    "\n",
    "for _, row in network_df.iterrows():\n",
    "    x0, y0 = pos[row['sc']]\n",
    "    x1, y1 = pos[row['oc']]\n",
    "\n",
    "    width = scale_edge_width(row['count_clean'])\n",
    "\n",
    "    # Create edge line\n",
    "    edge_trace = go.Scatter(\n",
    "        x=[x0, x1, None],\n",
    "        y=[y0, y1, None],\n",
    "        mode='lines',\n",
    "        line=dict(width=width, color='rgba(100, 150, 200, 0.6)'),\n",
    "        hoverinfo='text',\n",
    "        hovertext=f\"<b>{row['sc_label']}</b> --{row['p_label']}--> <b>{row['oc_label']}</b><br>Count: <b>{row['count_clean']:,}</b>\",\n",
    "        showlegend=False\n",
    "    )\n",
    "    edge_traces.append(edge_trace)\n",
    "\n",
    "    # Add arrow annotation\n",
    "    # Calculate arrow position (slightly before the target node)\n",
    "    dx = x1 - x0\n",
    "    dy = y1 - y0\n",
    "    length = (dx**2 + dy**2)**0.5\n",
    "    if length > 0:\n",
    "        # Position arrow 90% along the edge\n",
    "        arrow_x = x0 + 0.9 * dx\n",
    "        arrow_y = y0 + 0.9 * dy\n",
    "\n",
    "        edge_annotations.append(\n",
    "            dict(\n",
    "                x=arrow_x, y=arrow_y,\n",
    "                ax=x0 + 0.8 * dx, ay=y0 + 0.8 * dy,\n",
    "                xref='x', yref='y',\n",
    "                axref='x', ayref='y',\n",
    "                arrowhead=2,\n",
    "                arrowsize=1.5,\n",
    "                arrowwidth=width/2,\n",
    "                arrowcolor='rgba(80, 120, 180, 0.8)',\n",
    "                showarrow=True,\n",
    "                hovertext=f\"{row['sc_label']} → {row['oc_label']}<br>{row['p_label']}: {row['count_clean']:,}\"\n",
    "            )\n",
    "        )\n",
    "\n",
    "    # Add edge labels for ALL relationships\n",
    "    mid_x = (x0 + x1) / 2\n",
    "    mid_y = (y0 + y1) / 2\n",
    "\n",
    "    edge_label = go.Scatter(\n",
    "        x=[mid_x],\n",
    "        y=[mid_y],\n",
    "        mode='text',\n",
    "        text=[row['p_label']],\n",
    "        textfont=dict(size=9, color='darkblue', family='Arial Black'),\n",
    "        textposition=\"middle center\",\n",
    "        hoverinfo='text',\n",
    "        hovertext=f\"<b>{row['sc_label']}</b> --{row['p_label']}--> <b>{row['oc_label']}</b><br>Count: <b>{row['count_clean']:,}</b>\",\n",
    "        showlegend=False\n",
    "    )\n",
    "    edge_labels.append(edge_label)\n",
    "\n",
    "# Create node trace with draggable nodes\n",
    "node_trace = go.Scatter(\n",
    "    x=node_x,\n",
    "    y=node_y,\n",
    "    mode='markers+text',\n",
    "    marker=dict(\n",
    "        size=15,\n",
    "        color='lightcoral',\n",
    "        line=dict(width=2, color='darkred'),\n",
    "        symbol='circle'\n",
    "    ),\n",
    "    text=node_text,\n",
    "    textposition=\"middle center\",\n",
    "    textfont=dict(size=11, color='black', family='Arial Black'),\n",
    "    # hoverinfo='text',\n",
    "    # hovertext=[f\"<b>{label}</b><br>Full IRI: {iri}<br><i>Drag to reposition!</i>\"\n",
    "    #            for iri, label in zip(node_list, node_text)],\n",
    "    name='Classes'\n",
    ")\n",
    "\n",
    "# Create the figure with improved styling and draggable nodes\n",
    "fig = go.Figure(data=[*edge_traces, *edge_labels, node_trace])\n",
    "\n",
    "fig.update_layout(\n",
    "    title=dict(\n",
    "        text=\"<b>RDF Class Relationship Network</b><br><sub>Edge width ∝ relationship frequency (log scale) • Arrows show direction </sub>\",\n",
    "        x=0.5,\n",
    "        font=dict(size=18, color='darkslategray')\n",
    "    ),\n",
    "    showlegend=False,\n",
    "    hovermode='closest',\n",
    "    # dragmode='pan',  # Enable dragging\n",
    "    margin=dict(b=40,l=40,r=40,t=100),\n",
    "    height=800,\n",
    "    width=1200,\n",
    "    annotations=edge_annotations + [\n",
    "        dict(\n",
    "            text=\"💡 <b>Drag nodes to rearrange the layout</b> • Hover for details • Thicker edges = more frequent relationships\",\n",
    "            showarrow=False,\n",
    "            xref=\"paper\", yref=\"paper\",\n",
    "            x=0.5, y=-0.05,\n",
    "            xanchor='center', yanchor='bottom',\n",
    "            font=dict(color='gray', size=12)\n",
    "        )\n",
    "    ],\n",
    "    xaxis=dict(showgrid=False, zeroline=False, showticklabels=False),\n",
    "    yaxis=dict(showgrid=False, zeroline=False, showticklabels=False),\n",
    "    plot_bgcolor='white',\n",
    "    paper_bgcolor='#fafafa'\n",
    ")\n",
    "\n",
    "# Show the plot\n",
    "fig.show()\n"
   ],
   "id": "8fb5cd2de0206b8e",
   "outputs": [],
   "execution_count": null
  }
 ],
 "metadata": {
  "kernelspec": {
   "display_name": "Python 3",
   "language": "python",
   "name": "python3"
  },
  "language_info": {
   "codemirror_mode": {
    "name": "ipython",
    "version": 2
   },
   "file_extension": ".py",
   "mimetype": "text/x-python",
   "name": "python",
   "nbconvert_exporter": "python",
   "pygments_lexer": "ipython2",
   "version": "2.7.6"
  }
 },
 "nbformat": 4,
 "nbformat_minor": 5
}
